{
  "nbformat": 4,
  "nbformat_minor": 0,
  "metadata": {
    "colab": {
      "provenance": [],
      "authorship_tag": "ABX9TyN+sVEr8OoYOPzjKdeIwPBO",
      "include_colab_link": true
    },
    "kernelspec": {
      "name": "python3",
      "display_name": "Python 3"
    },
    "language_info": {
      "name": "python"
    }
  },
  "cells": [
    {
      "cell_type": "markdown",
      "metadata": {
        "id": "view-in-github",
        "colab_type": "text"
      },
      "source": [
        "<a href=\"https://colab.research.google.com/github/Himalaypatel75/Tenserflow-Keras/blob/main/tf2_0_linear_classification.ipynb\" target=\"_parent\"><img src=\"https://colab.research.google.com/assets/colab-badge.svg\" alt=\"Open In Colab\"/></a>"
      ]
    },
    {
      "cell_type": "code",
      "execution_count": null,
      "metadata": {
        "colab": {
          "base_uri": "https://localhost:8080/"
        },
        "id": "pAOl0Tvlt03O",
        "outputId": "fe694b05-7b63-4b09-f62a-ff682ce189eb"
      },
      "outputs": [
        {
          "output_type": "stream",
          "name": "stdout",
          "text": [
            "Colab only includes TensorFlow 2.x; %tensorflow_version has no effect.\n",
            "2.15.0\n"
          ]
        }
      ],
      "source": [
        "# Install TensorFlow\n",
        "# !pip install -q tensorflow-gpu==2.0.0-beta1\n",
        "\n",
        "try:\n",
        "  %tensorflow_version 2.x  # Colab only.\n",
        "except Exception:\n",
        "  pass\n",
        "\n",
        "import tensorflow as tf\n",
        "print(tf.__version__)"
      ]
    },
    {
      "cell_type": "code",
      "source": [
        "# Load in the data\n",
        "from sklearn.datasets import load_breast_cancer"
      ],
      "metadata": {
        "id": "o7XbECypuIpN"
      },
      "execution_count": null,
      "outputs": []
    },
    {
      "cell_type": "code",
      "source": [
        "# load the data\n",
        "data = load_breast_cancer()"
      ],
      "metadata": {
        "id": "PtEHbFufuLHU"
      },
      "execution_count": null,
      "outputs": []
    },
    {
      "cell_type": "code",
      "source": [
        "# check the type of 'data'\n",
        "type(data)"
      ],
      "metadata": {
        "colab": {
          "base_uri": "https://localhost:8080/",
          "height": 187
        },
        "id": "9UEaJYZPuM1U",
        "outputId": "ace6c39a-a0b8-4973-84fd-a11c59328145"
      },
      "execution_count": null,
      "outputs": [
        {
          "output_type": "execute_result",
          "data": {
            "text/plain": [
              "sklearn.utils._bunch.Bunch"
            ],
            "text/html": [
              "<div style=\"max-width:800px; border: 1px solid var(--colab-border-color);\"><style>\n",
              "      pre.function-repr-contents {\n",
              "        overflow-x: auto;\n",
              "        padding: 8px 12px;\n",
              "        max-height: 500px;\n",
              "      }\n",
              "\n",
              "      pre.function-repr-contents.function-repr-contents-collapsed {\n",
              "        cursor: pointer;\n",
              "        max-height: 100px;\n",
              "      }\n",
              "    </style>\n",
              "    <pre style=\"white-space: initial; background:\n",
              "         var(--colab-secondary-surface-color); padding: 8px 12px;\n",
              "         border-bottom: 1px solid var(--colab-border-color);\"><b>sklearn.utils._bunch.Bunch</b><br/>def __init__(**kwargs)</pre><pre class=\"function-repr-contents function-repr-contents-collapsed\" style=\"\"><a class=\"filepath\" style=\"display:none\" href=\"#\">/usr/local/lib/python3.10/dist-packages/sklearn/utils/_bunch.py</a>Container object exposing keys as attributes.\n",
              "\n",
              "Bunch objects are sometimes used as an output for functions and methods.\n",
              "They extend dictionaries by enabling values to be accessed by key,\n",
              "`bunch[&quot;value_key&quot;]`, or by an attribute, `bunch.value_key`.\n",
              "\n",
              "Examples\n",
              "--------\n",
              "&gt;&gt;&gt; from sklearn.utils import Bunch\n",
              "&gt;&gt;&gt; b = Bunch(a=1, b=2)\n",
              "&gt;&gt;&gt; b[&#x27;b&#x27;]\n",
              "2\n",
              "&gt;&gt;&gt; b.b\n",
              "2\n",
              "&gt;&gt;&gt; b.a = 3\n",
              "&gt;&gt;&gt; b[&#x27;a&#x27;]\n",
              "3\n",
              "&gt;&gt;&gt; b.c = 6\n",
              "&gt;&gt;&gt; b[&#x27;c&#x27;]\n",
              "6</pre>\n",
              "      <script>\n",
              "      if (google.colab.kernel.accessAllowed && google.colab.files && google.colab.files.view) {\n",
              "        for (const element of document.querySelectorAll('.filepath')) {\n",
              "          element.style.display = 'block'\n",
              "          element.onclick = (event) => {\n",
              "            event.preventDefault();\n",
              "            event.stopPropagation();\n",
              "            google.colab.files.view(element.textContent, 1);\n",
              "          };\n",
              "        }\n",
              "      }\n",
              "      for (const element of document.querySelectorAll('.function-repr-contents')) {\n",
              "        element.onclick = (event) => {\n",
              "          event.preventDefault();\n",
              "          event.stopPropagation();\n",
              "          element.classList.toggle('function-repr-contents-collapsed');\n",
              "        };\n",
              "      }\n",
              "      </script>\n",
              "      </div>"
            ]
          },
          "metadata": {},
          "execution_count": 4
        }
      ]
    },
    {
      "cell_type": "code",
      "source": [
        "# note: it is a Bunch object\n",
        "# this basically acts like a dictionary where you can treat the keys like attributes\n",
        "data.keys()"
      ],
      "metadata": {
        "colab": {
          "base_uri": "https://localhost:8080/"
        },
        "id": "-fOLeYGDuOLi",
        "outputId": "6bf827af-976c-4309-d46e-e06fffc63254"
      },
      "execution_count": null,
      "outputs": [
        {
          "output_type": "execute_result",
          "data": {
            "text/plain": [
              "dict_keys(['data', 'target', 'frame', 'target_names', 'DESCR', 'feature_names', 'filename', 'data_module'])"
            ]
          },
          "metadata": {},
          "execution_count": 5
        }
      ]
    },
    {
      "cell_type": "code",
      "source": [
        "# 'data' (the attribute) means the input data\n",
        "data.data.shape\n",
        "# it has 569 samples, 30 features"
      ],
      "metadata": {
        "colab": {
          "base_uri": "https://localhost:8080/"
        },
        "id": "WtAlEggMuR38",
        "outputId": "4c12e1b4-e364-406a-b981-f1c8dcdd926d"
      },
      "execution_count": null,
      "outputs": [
        {
          "output_type": "execute_result",
          "data": {
            "text/plain": [
              "(569, 30)"
            ]
          },
          "metadata": {},
          "execution_count": 6
        }
      ]
    },
    {
      "cell_type": "code",
      "source": [
        "# 'targets'\n",
        "data.target\n",
        "# note how the targets are just 0s and 1s\n",
        "# normally, when you have K targets, they are labeled 0..K-1"
      ],
      "metadata": {
        "colab": {
          "base_uri": "https://localhost:8080/"
        },
        "id": "z9x-tSbpuS08",
        "outputId": "5a13f7c4-b985-449a-a408-c0c995f69181"
      },
      "execution_count": null,
      "outputs": [
        {
          "output_type": "execute_result",
          "data": {
            "text/plain": [
              "array([0, 0, 0, 0, 0, 0, 0, 0, 0, 0, 0, 0, 0, 0, 0, 0, 0, 0, 0, 1, 1, 1,\n",
              "       0, 0, 0, 0, 0, 0, 0, 0, 0, 0, 0, 0, 0, 0, 0, 1, 0, 0, 0, 0, 0, 0,\n",
              "       0, 0, 1, 0, 1, 1, 1, 1, 1, 0, 0, 1, 0, 0, 1, 1, 1, 1, 0, 1, 0, 0,\n",
              "       1, 1, 1, 1, 0, 1, 0, 0, 1, 0, 1, 0, 0, 1, 1, 1, 0, 0, 1, 0, 0, 0,\n",
              "       1, 1, 1, 0, 1, 1, 0, 0, 1, 1, 1, 0, 0, 1, 1, 1, 1, 0, 1, 1, 0, 1,\n",
              "       1, 1, 1, 1, 1, 1, 1, 0, 0, 0, 1, 0, 0, 1, 1, 1, 0, 0, 1, 0, 1, 0,\n",
              "       0, 1, 0, 0, 1, 1, 0, 1, 1, 0, 1, 1, 1, 1, 0, 1, 1, 1, 1, 1, 1, 1,\n",
              "       1, 1, 0, 1, 1, 1, 1, 0, 0, 1, 0, 1, 1, 0, 0, 1, 1, 0, 0, 1, 1, 1,\n",
              "       1, 0, 1, 1, 0, 0, 0, 1, 0, 1, 0, 1, 1, 1, 0, 1, 1, 0, 0, 1, 0, 0,\n",
              "       0, 0, 1, 0, 0, 0, 1, 0, 1, 0, 1, 1, 0, 1, 0, 0, 0, 0, 1, 1, 0, 0,\n",
              "       1, 1, 1, 0, 1, 1, 1, 1, 1, 0, 0, 1, 1, 0, 1, 1, 0, 0, 1, 0, 1, 1,\n",
              "       1, 1, 0, 1, 1, 1, 1, 1, 0, 1, 0, 0, 0, 0, 0, 0, 0, 0, 0, 0, 0, 0,\n",
              "       0, 0, 1, 1, 1, 1, 1, 1, 0, 1, 0, 1, 1, 0, 1, 1, 0, 1, 0, 0, 1, 1,\n",
              "       1, 1, 1, 1, 1, 1, 1, 1, 1, 1, 1, 0, 1, 1, 0, 1, 0, 1, 1, 1, 1, 1,\n",
              "       1, 1, 1, 1, 1, 1, 1, 1, 1, 0, 1, 1, 1, 0, 1, 0, 1, 1, 1, 1, 0, 0,\n",
              "       0, 1, 1, 1, 1, 0, 1, 0, 1, 0, 1, 1, 1, 0, 1, 1, 1, 1, 1, 1, 1, 0,\n",
              "       0, 0, 1, 1, 1, 1, 1, 1, 1, 1, 1, 1, 1, 0, 0, 1, 0, 0, 0, 1, 0, 0,\n",
              "       1, 1, 1, 1, 1, 0, 1, 1, 1, 1, 1, 0, 1, 1, 1, 0, 1, 1, 0, 0, 1, 1,\n",
              "       1, 1, 1, 1, 0, 1, 1, 1, 1, 1, 1, 1, 0, 1, 1, 1, 1, 1, 0, 1, 1, 0,\n",
              "       1, 1, 1, 1, 1, 1, 1, 1, 1, 1, 1, 1, 0, 1, 0, 0, 1, 0, 1, 1, 1, 1,\n",
              "       1, 0, 1, 1, 0, 1, 0, 1, 1, 0, 1, 0, 1, 1, 1, 1, 1, 1, 1, 1, 0, 0,\n",
              "       1, 1, 1, 1, 1, 1, 0, 1, 1, 1, 1, 1, 1, 1, 1, 1, 1, 0, 1, 1, 1, 1,\n",
              "       1, 1, 1, 0, 1, 0, 1, 1, 0, 1, 1, 1, 1, 1, 0, 0, 1, 0, 1, 0, 1, 1,\n",
              "       1, 1, 1, 0, 1, 1, 0, 1, 0, 1, 0, 0, 1, 1, 1, 0, 1, 1, 1, 1, 1, 1,\n",
              "       1, 1, 1, 1, 1, 0, 1, 0, 0, 1, 1, 1, 1, 1, 1, 1, 1, 1, 1, 1, 1, 1,\n",
              "       1, 1, 1, 1, 1, 1, 1, 1, 1, 1, 1, 1, 0, 0, 0, 0, 0, 0, 1])"
            ]
          },
          "metadata": {},
          "execution_count": 7
        }
      ]
    },
    {
      "cell_type": "code",
      "source": [
        "# their meaning is not lost\n",
        "data.target_names"
      ],
      "metadata": {
        "colab": {
          "base_uri": "https://localhost:8080/"
        },
        "id": "tojK0_d2uZlL",
        "outputId": "e17751e1-feb8-44e1-c046-51e6651979a3"
      },
      "execution_count": null,
      "outputs": [
        {
          "output_type": "execute_result",
          "data": {
            "text/plain": [
              "array(['malignant', 'benign'], dtype='<U9')"
            ]
          },
          "metadata": {},
          "execution_count": 8
        }
      ]
    },
    {
      "cell_type": "code",
      "source": [
        "# there are also 569 corresponding targets\n",
        "data.target.shape"
      ],
      "metadata": {
        "colab": {
          "base_uri": "https://localhost:8080/"
        },
        "id": "w7J6BGryubIi",
        "outputId": "f4cc8dff-8046-4269-e6bf-087d1d85af00"
      },
      "execution_count": null,
      "outputs": [
        {
          "output_type": "execute_result",
          "data": {
            "text/plain": [
              "(569,)"
            ]
          },
          "metadata": {},
          "execution_count": 9
        }
      ]
    },
    {
      "cell_type": "code",
      "source": [
        "# you can also determine the meaning of each feature\n",
        "data.feature_names"
      ],
      "metadata": {
        "colab": {
          "base_uri": "https://localhost:8080/"
        },
        "id": "tgWCHyG3udIf",
        "outputId": "c4d9a8ca-7edf-4a4d-8507-b8232e63c7c3"
      },
      "execution_count": null,
      "outputs": [
        {
          "output_type": "execute_result",
          "data": {
            "text/plain": [
              "array(['mean radius', 'mean texture', 'mean perimeter', 'mean area',\n",
              "       'mean smoothness', 'mean compactness', 'mean concavity',\n",
              "       'mean concave points', 'mean symmetry', 'mean fractal dimension',\n",
              "       'radius error', 'texture error', 'perimeter error', 'area error',\n",
              "       'smoothness error', 'compactness error', 'concavity error',\n",
              "       'concave points error', 'symmetry error',\n",
              "       'fractal dimension error', 'worst radius', 'worst texture',\n",
              "       'worst perimeter', 'worst area', 'worst smoothness',\n",
              "       'worst compactness', 'worst concavity', 'worst concave points',\n",
              "       'worst symmetry', 'worst fractal dimension'], dtype='<U23')"
            ]
          },
          "metadata": {},
          "execution_count": 10
        }
      ]
    },
    {
      "cell_type": "code",
      "source": [
        "# normally we would put all of our imports at the top\n",
        "# but this lets us tell a story\n",
        "from sklearn.model_selection import train_test_split\n",
        "\n",
        "\n",
        "# split the data into train and test sets\n",
        "# this lets us simulate how our model will perform in the future\n",
        "X_train, X_test, y_train, y_test = train_test_split(data.data, data.target, test_size=0.33)\n",
        "N, D = X_train.shape"
      ],
      "metadata": {
        "id": "JRU306M4ueH5"
      },
      "execution_count": null,
      "outputs": []
    },
    {
      "cell_type": "code",
      "source": [
        "# Scale the data\n",
        "# you'll learn why scaling is needed in a later course\n",
        "from sklearn.preprocessing import StandardScaler\n",
        "\n",
        "scaler = StandardScaler()\n",
        "X_train = scaler.fit_transform(X_train)\n",
        "X_test = scaler.transform(X_test)"
      ],
      "metadata": {
        "id": "66dGUw3gug85"
      },
      "execution_count": null,
      "outputs": []
    },
    {
      "cell_type": "code",
      "source": [
        "# Now all the fun Tensorflow stuff\n",
        "# Build the model\n",
        "\n",
        "model = tf.keras.models.Sequential([\n",
        "  tf.keras.layers.Input(shape=(D,)),\n",
        "  tf.keras.layers.Dense(1, activation='sigmoid')\n",
        "])\n",
        "\n",
        "# Alternatively, you can do:\n",
        "# model = tf.keras.models.Sequential()\n",
        "# model.add(tf.keras.layers.Dense(1, input_shape=(D,), activation='sigmoid'))\n",
        "\n",
        "model.compile(optimizer='adam',\n",
        "              loss='binary_crossentropy',\n",
        "              metrics=['accuracy'])\n",
        "\n",
        "\n",
        "# Train the model\n",
        "r = model.fit(X_train, y_train, validation_data=(X_test, y_test), epochs=100)\n",
        "\n",
        "\n",
        "# Evaluate the model - evaluate() returns loss and accuracy\n",
        "print(\"Train score:\", model.evaluate(X_train, y_train))\n",
        "print(\"Test score:\", model.evaluate(X_test, y_test))"
      ],
      "metadata": {
        "colab": {
          "base_uri": "https://localhost:8080/"
        },
        "id": "mKZcmF1tujCe",
        "outputId": "1aa6361c-120b-48d1-86e6-71a2b5a93a25"
      },
      "execution_count": null,
      "outputs": [
        {
          "output_type": "stream",
          "name": "stdout",
          "text": [
            "Epoch 1/100\n",
            "12/12 [==============================] - 1s 23ms/step - loss: 1.2039 - accuracy: 0.2415 - val_loss: 1.2294 - val_accuracy: 0.2500\n",
            "Epoch 2/100\n",
            "12/12 [==============================] - 0s 6ms/step - loss: 1.0980 - accuracy: 0.2835 - val_loss: 1.1027 - val_accuracy: 0.3191\n",
            "Epoch 3/100\n",
            "12/12 [==============================] - 0s 6ms/step - loss: 1.0024 - accuracy: 0.3333 - val_loss: 0.9852 - val_accuracy: 0.4043\n",
            "Epoch 4/100\n",
            "12/12 [==============================] - 0s 5ms/step - loss: 0.9151 - accuracy: 0.4199 - val_loss: 0.8810 - val_accuracy: 0.4787\n",
            "Epoch 5/100\n",
            "12/12 [==============================] - 0s 6ms/step - loss: 0.8349 - accuracy: 0.4856 - val_loss: 0.7912 - val_accuracy: 0.5532\n",
            "Epoch 6/100\n",
            "12/12 [==============================] - 0s 6ms/step - loss: 0.7655 - accuracy: 0.5276 - val_loss: 0.7129 - val_accuracy: 0.6170\n",
            "Epoch 7/100\n",
            "12/12 [==============================] - 0s 5ms/step - loss: 0.7050 - accuracy: 0.5827 - val_loss: 0.6445 - val_accuracy: 0.7021\n",
            "Epoch 8/100\n",
            "12/12 [==============================] - 0s 5ms/step - loss: 0.6513 - accuracy: 0.6535 - val_loss: 0.5866 - val_accuracy: 0.7766\n",
            "Epoch 9/100\n",
            "12/12 [==============================] - 0s 6ms/step - loss: 0.6052 - accuracy: 0.7034 - val_loss: 0.5367 - val_accuracy: 0.7872\n",
            "Epoch 10/100\n",
            "12/12 [==============================] - 0s 6ms/step - loss: 0.5654 - accuracy: 0.7428 - val_loss: 0.4932 - val_accuracy: 0.8351\n",
            "Epoch 11/100\n",
            "12/12 [==============================] - 0s 5ms/step - loss: 0.5305 - accuracy: 0.7664 - val_loss: 0.4557 - val_accuracy: 0.8617\n",
            "Epoch 12/100\n",
            "12/12 [==============================] - 0s 6ms/step - loss: 0.4998 - accuracy: 0.7979 - val_loss: 0.4235 - val_accuracy: 0.8723\n",
            "Epoch 13/100\n",
            "12/12 [==============================] - 0s 5ms/step - loss: 0.4731 - accuracy: 0.8241 - val_loss: 0.3955 - val_accuracy: 0.8830\n",
            "Epoch 14/100\n",
            "12/12 [==============================] - 0s 6ms/step - loss: 0.4497 - accuracy: 0.8478 - val_loss: 0.3708 - val_accuracy: 0.8830\n",
            "Epoch 15/100\n",
            "12/12 [==============================] - 0s 5ms/step - loss: 0.4288 - accuracy: 0.8530 - val_loss: 0.3496 - val_accuracy: 0.8883\n",
            "Epoch 16/100\n",
            "12/12 [==============================] - 0s 7ms/step - loss: 0.4098 - accuracy: 0.8635 - val_loss: 0.3307 - val_accuracy: 0.8989\n",
            "Epoch 17/100\n",
            "12/12 [==============================] - 0s 7ms/step - loss: 0.3930 - accuracy: 0.8714 - val_loss: 0.3138 - val_accuracy: 0.9043\n",
            "Epoch 18/100\n",
            "12/12 [==============================] - 0s 7ms/step - loss: 0.3780 - accuracy: 0.8793 - val_loss: 0.2984 - val_accuracy: 0.9149\n",
            "Epoch 19/100\n",
            "12/12 [==============================] - 0s 5ms/step - loss: 0.3638 - accuracy: 0.8845 - val_loss: 0.2846 - val_accuracy: 0.9202\n",
            "Epoch 20/100\n",
            "12/12 [==============================] - 0s 5ms/step - loss: 0.3512 - accuracy: 0.8845 - val_loss: 0.2721 - val_accuracy: 0.9309\n",
            "Epoch 21/100\n",
            "12/12 [==============================] - 0s 5ms/step - loss: 0.3394 - accuracy: 0.8950 - val_loss: 0.2606 - val_accuracy: 0.9362\n",
            "Epoch 22/100\n",
            "12/12 [==============================] - 0s 5ms/step - loss: 0.3287 - accuracy: 0.9055 - val_loss: 0.2501 - val_accuracy: 0.9415\n",
            "Epoch 23/100\n",
            "12/12 [==============================] - 0s 5ms/step - loss: 0.3186 - accuracy: 0.9108 - val_loss: 0.2405 - val_accuracy: 0.9468\n",
            "Epoch 24/100\n",
            "12/12 [==============================] - 0s 5ms/step - loss: 0.3094 - accuracy: 0.9160 - val_loss: 0.2314 - val_accuracy: 0.9521\n",
            "Epoch 25/100\n",
            "12/12 [==============================] - 0s 5ms/step - loss: 0.3008 - accuracy: 0.9239 - val_loss: 0.2230 - val_accuracy: 0.9574\n",
            "Epoch 26/100\n",
            "12/12 [==============================] - 0s 6ms/step - loss: 0.2926 - accuracy: 0.9239 - val_loss: 0.2153 - val_accuracy: 0.9574\n",
            "Epoch 27/100\n",
            "12/12 [==============================] - 0s 6ms/step - loss: 0.2851 - accuracy: 0.9239 - val_loss: 0.2078 - val_accuracy: 0.9574\n",
            "Epoch 28/100\n",
            "12/12 [==============================] - 0s 6ms/step - loss: 0.2780 - accuracy: 0.9291 - val_loss: 0.2011 - val_accuracy: 0.9574\n",
            "Epoch 29/100\n",
            "12/12 [==============================] - 0s 6ms/step - loss: 0.2713 - accuracy: 0.9291 - val_loss: 0.1948 - val_accuracy: 0.9574\n",
            "Epoch 30/100\n",
            "12/12 [==============================] - 0s 7ms/step - loss: 0.2649 - accuracy: 0.9318 - val_loss: 0.1888 - val_accuracy: 0.9574\n",
            "Epoch 31/100\n",
            "12/12 [==============================] - 0s 6ms/step - loss: 0.2589 - accuracy: 0.9344 - val_loss: 0.1831 - val_accuracy: 0.9628\n",
            "Epoch 32/100\n",
            "12/12 [==============================] - 0s 6ms/step - loss: 0.2533 - accuracy: 0.9344 - val_loss: 0.1780 - val_accuracy: 0.9628\n",
            "Epoch 33/100\n",
            "12/12 [==============================] - 0s 6ms/step - loss: 0.2481 - accuracy: 0.9344 - val_loss: 0.1731 - val_accuracy: 0.9681\n",
            "Epoch 34/100\n",
            "12/12 [==============================] - 0s 6ms/step - loss: 0.2428 - accuracy: 0.9344 - val_loss: 0.1686 - val_accuracy: 0.9734\n",
            "Epoch 35/100\n",
            "12/12 [==============================] - 0s 6ms/step - loss: 0.2381 - accuracy: 0.9370 - val_loss: 0.1642 - val_accuracy: 0.9734\n",
            "Epoch 36/100\n",
            "12/12 [==============================] - 0s 6ms/step - loss: 0.2335 - accuracy: 0.9370 - val_loss: 0.1601 - val_accuracy: 0.9734\n",
            "Epoch 37/100\n",
            "12/12 [==============================] - 0s 5ms/step - loss: 0.2292 - accuracy: 0.9423 - val_loss: 0.1564 - val_accuracy: 0.9734\n",
            "Epoch 38/100\n",
            "12/12 [==============================] - 0s 6ms/step - loss: 0.2250 - accuracy: 0.9449 - val_loss: 0.1528 - val_accuracy: 0.9787\n",
            "Epoch 39/100\n",
            "12/12 [==============================] - 0s 5ms/step - loss: 0.2211 - accuracy: 0.9449 - val_loss: 0.1494 - val_accuracy: 0.9787\n",
            "Epoch 40/100\n",
            "12/12 [==============================] - 0s 6ms/step - loss: 0.2173 - accuracy: 0.9449 - val_loss: 0.1462 - val_accuracy: 0.9787\n",
            "Epoch 41/100\n",
            "12/12 [==============================] - 0s 6ms/step - loss: 0.2137 - accuracy: 0.9475 - val_loss: 0.1432 - val_accuracy: 0.9787\n",
            "Epoch 42/100\n",
            "12/12 [==============================] - 0s 6ms/step - loss: 0.2103 - accuracy: 0.9475 - val_loss: 0.1403 - val_accuracy: 0.9787\n",
            "Epoch 43/100\n",
            "12/12 [==============================] - 0s 7ms/step - loss: 0.2070 - accuracy: 0.9501 - val_loss: 0.1376 - val_accuracy: 0.9894\n",
            "Epoch 44/100\n",
            "12/12 [==============================] - 0s 7ms/step - loss: 0.2038 - accuracy: 0.9501 - val_loss: 0.1350 - val_accuracy: 0.9894\n",
            "Epoch 45/100\n",
            "12/12 [==============================] - 0s 5ms/step - loss: 0.2008 - accuracy: 0.9501 - val_loss: 0.1325 - val_accuracy: 0.9840\n",
            "Epoch 46/100\n",
            "12/12 [==============================] - 0s 5ms/step - loss: 0.1978 - accuracy: 0.9501 - val_loss: 0.1301 - val_accuracy: 0.9840\n",
            "Epoch 47/100\n",
            "12/12 [==============================] - 0s 6ms/step - loss: 0.1951 - accuracy: 0.9501 - val_loss: 0.1279 - val_accuracy: 0.9840\n",
            "Epoch 48/100\n",
            "12/12 [==============================] - 0s 6ms/step - loss: 0.1925 - accuracy: 0.9501 - val_loss: 0.1257 - val_accuracy: 0.9840\n",
            "Epoch 49/100\n",
            "12/12 [==============================] - 0s 6ms/step - loss: 0.1899 - accuracy: 0.9501 - val_loss: 0.1235 - val_accuracy: 0.9840\n",
            "Epoch 50/100\n",
            "12/12 [==============================] - 0s 6ms/step - loss: 0.1875 - accuracy: 0.9501 - val_loss: 0.1216 - val_accuracy: 0.9840\n",
            "Epoch 51/100\n",
            "12/12 [==============================] - 0s 6ms/step - loss: 0.1850 - accuracy: 0.9528 - val_loss: 0.1197 - val_accuracy: 0.9840\n",
            "Epoch 52/100\n",
            "12/12 [==============================] - 0s 6ms/step - loss: 0.1827 - accuracy: 0.9554 - val_loss: 0.1179 - val_accuracy: 0.9840\n",
            "Epoch 53/100\n",
            "12/12 [==============================] - 0s 6ms/step - loss: 0.1805 - accuracy: 0.9554 - val_loss: 0.1160 - val_accuracy: 0.9840\n",
            "Epoch 54/100\n",
            "12/12 [==============================] - 0s 6ms/step - loss: 0.1785 - accuracy: 0.9554 - val_loss: 0.1142 - val_accuracy: 0.9840\n",
            "Epoch 55/100\n",
            "12/12 [==============================] - 0s 30ms/step - loss: 0.1764 - accuracy: 0.9554 - val_loss: 0.1126 - val_accuracy: 0.9840\n",
            "Epoch 56/100\n",
            "12/12 [==============================] - 0s 7ms/step - loss: 0.1744 - accuracy: 0.9554 - val_loss: 0.1111 - val_accuracy: 0.9840\n",
            "Epoch 57/100\n",
            "12/12 [==============================] - 0s 5ms/step - loss: 0.1725 - accuracy: 0.9554 - val_loss: 0.1095 - val_accuracy: 0.9894\n",
            "Epoch 58/100\n",
            "12/12 [==============================] - 0s 6ms/step - loss: 0.1706 - accuracy: 0.9554 - val_loss: 0.1080 - val_accuracy: 0.9894\n",
            "Epoch 59/100\n",
            "12/12 [==============================] - 0s 6ms/step - loss: 0.1688 - accuracy: 0.9554 - val_loss: 0.1065 - val_accuracy: 0.9894\n",
            "Epoch 60/100\n",
            "12/12 [==============================] - 0s 5ms/step - loss: 0.1672 - accuracy: 0.9554 - val_loss: 0.1052 - val_accuracy: 0.9894\n",
            "Epoch 61/100\n",
            "12/12 [==============================] - 0s 5ms/step - loss: 0.1654 - accuracy: 0.9554 - val_loss: 0.1037 - val_accuracy: 0.9894\n",
            "Epoch 62/100\n",
            "12/12 [==============================] - 0s 6ms/step - loss: 0.1638 - accuracy: 0.9554 - val_loss: 0.1024 - val_accuracy: 0.9894\n",
            "Epoch 63/100\n",
            "12/12 [==============================] - 0s 5ms/step - loss: 0.1622 - accuracy: 0.9554 - val_loss: 0.1011 - val_accuracy: 0.9894\n",
            "Epoch 64/100\n",
            "12/12 [==============================] - 0s 5ms/step - loss: 0.1607 - accuracy: 0.9554 - val_loss: 0.0999 - val_accuracy: 0.9894\n",
            "Epoch 65/100\n",
            "12/12 [==============================] - 0s 8ms/step - loss: 0.1592 - accuracy: 0.9554 - val_loss: 0.0987 - val_accuracy: 0.9894\n",
            "Epoch 66/100\n",
            "12/12 [==============================] - 0s 10ms/step - loss: 0.1578 - accuracy: 0.9554 - val_loss: 0.0976 - val_accuracy: 0.9894\n",
            "Epoch 67/100\n",
            "12/12 [==============================] - 0s 8ms/step - loss: 0.1564 - accuracy: 0.9554 - val_loss: 0.0964 - val_accuracy: 0.9894\n",
            "Epoch 68/100\n",
            "12/12 [==============================] - 0s 10ms/step - loss: 0.1551 - accuracy: 0.9554 - val_loss: 0.0953 - val_accuracy: 0.9894\n",
            "Epoch 69/100\n",
            "12/12 [==============================] - 0s 7ms/step - loss: 0.1537 - accuracy: 0.9554 - val_loss: 0.0942 - val_accuracy: 0.9894\n",
            "Epoch 70/100\n",
            "12/12 [==============================] - 0s 7ms/step - loss: 0.1524 - accuracy: 0.9554 - val_loss: 0.0932 - val_accuracy: 0.9894\n",
            "Epoch 71/100\n",
            "12/12 [==============================] - 0s 8ms/step - loss: 0.1512 - accuracy: 0.9554 - val_loss: 0.0922 - val_accuracy: 0.9894\n",
            "Epoch 72/100\n",
            "12/12 [==============================] - 0s 6ms/step - loss: 0.1500 - accuracy: 0.9554 - val_loss: 0.0912 - val_accuracy: 0.9894\n",
            "Epoch 73/100\n",
            "12/12 [==============================] - 0s 8ms/step - loss: 0.1488 - accuracy: 0.9554 - val_loss: 0.0902 - val_accuracy: 0.9894\n",
            "Epoch 74/100\n",
            "12/12 [==============================] - 0s 7ms/step - loss: 0.1477 - accuracy: 0.9580 - val_loss: 0.0893 - val_accuracy: 0.9894\n",
            "Epoch 75/100\n",
            "12/12 [==============================] - 0s 7ms/step - loss: 0.1466 - accuracy: 0.9580 - val_loss: 0.0883 - val_accuracy: 0.9894\n",
            "Epoch 76/100\n",
            "12/12 [==============================] - 0s 9ms/step - loss: 0.1455 - accuracy: 0.9580 - val_loss: 0.0874 - val_accuracy: 0.9894\n",
            "Epoch 77/100\n",
            "12/12 [==============================] - 0s 9ms/step - loss: 0.1444 - accuracy: 0.9580 - val_loss: 0.0866 - val_accuracy: 0.9894\n",
            "Epoch 78/100\n",
            "12/12 [==============================] - 0s 8ms/step - loss: 0.1434 - accuracy: 0.9580 - val_loss: 0.0858 - val_accuracy: 0.9894\n",
            "Epoch 79/100\n",
            "12/12 [==============================] - 0s 7ms/step - loss: 0.1424 - accuracy: 0.9580 - val_loss: 0.0849 - val_accuracy: 0.9894\n",
            "Epoch 80/100\n",
            "12/12 [==============================] - 0s 7ms/step - loss: 0.1414 - accuracy: 0.9580 - val_loss: 0.0841 - val_accuracy: 0.9894\n",
            "Epoch 81/100\n",
            "12/12 [==============================] - 0s 7ms/step - loss: 0.1404 - accuracy: 0.9580 - val_loss: 0.0834 - val_accuracy: 0.9894\n",
            "Epoch 82/100\n",
            "12/12 [==============================] - 0s 8ms/step - loss: 0.1395 - accuracy: 0.9580 - val_loss: 0.0826 - val_accuracy: 0.9894\n",
            "Epoch 83/100\n",
            "12/12 [==============================] - 0s 8ms/step - loss: 0.1385 - accuracy: 0.9580 - val_loss: 0.0818 - val_accuracy: 0.9894\n",
            "Epoch 84/100\n",
            "12/12 [==============================] - 0s 8ms/step - loss: 0.1376 - accuracy: 0.9580 - val_loss: 0.0811 - val_accuracy: 0.9894\n",
            "Epoch 85/100\n",
            "12/12 [==============================] - 0s 8ms/step - loss: 0.1368 - accuracy: 0.9580 - val_loss: 0.0804 - val_accuracy: 0.9894\n",
            "Epoch 86/100\n",
            "12/12 [==============================] - 0s 9ms/step - loss: 0.1359 - accuracy: 0.9580 - val_loss: 0.0797 - val_accuracy: 0.9894\n",
            "Epoch 87/100\n",
            "12/12 [==============================] - 0s 7ms/step - loss: 0.1351 - accuracy: 0.9606 - val_loss: 0.0790 - val_accuracy: 0.9894\n",
            "Epoch 88/100\n",
            "12/12 [==============================] - 0s 9ms/step - loss: 0.1343 - accuracy: 0.9606 - val_loss: 0.0783 - val_accuracy: 0.9894\n",
            "Epoch 89/100\n",
            "12/12 [==============================] - 0s 8ms/step - loss: 0.1335 - accuracy: 0.9606 - val_loss: 0.0777 - val_accuracy: 0.9947\n",
            "Epoch 90/100\n",
            "12/12 [==============================] - 0s 8ms/step - loss: 0.1326 - accuracy: 0.9606 - val_loss: 0.0771 - val_accuracy: 0.9947\n",
            "Epoch 91/100\n",
            "12/12 [==============================] - 0s 9ms/step - loss: 0.1319 - accuracy: 0.9606 - val_loss: 0.0764 - val_accuracy: 0.9947\n",
            "Epoch 92/100\n",
            "12/12 [==============================] - 0s 8ms/step - loss: 0.1311 - accuracy: 0.9606 - val_loss: 0.0758 - val_accuracy: 0.9947\n",
            "Epoch 93/100\n",
            "12/12 [==============================] - 0s 8ms/step - loss: 0.1304 - accuracy: 0.9606 - val_loss: 0.0752 - val_accuracy: 0.9947\n",
            "Epoch 94/100\n",
            "12/12 [==============================] - 0s 7ms/step - loss: 0.1297 - accuracy: 0.9606 - val_loss: 0.0746 - val_accuracy: 0.9947\n",
            "Epoch 95/100\n",
            "12/12 [==============================] - 0s 12ms/step - loss: 0.1290 - accuracy: 0.9633 - val_loss: 0.0741 - val_accuracy: 0.9947\n",
            "Epoch 96/100\n",
            "12/12 [==============================] - 0s 9ms/step - loss: 0.1283 - accuracy: 0.9633 - val_loss: 0.0735 - val_accuracy: 0.9947\n",
            "Epoch 97/100\n",
            "12/12 [==============================] - 0s 9ms/step - loss: 0.1276 - accuracy: 0.9633 - val_loss: 0.0729 - val_accuracy: 0.9947\n",
            "Epoch 98/100\n",
            "12/12 [==============================] - 0s 8ms/step - loss: 0.1269 - accuracy: 0.9633 - val_loss: 0.0724 - val_accuracy: 0.9947\n",
            "Epoch 99/100\n",
            "12/12 [==============================] - 0s 8ms/step - loss: 0.1262 - accuracy: 0.9633 - val_loss: 0.0719 - val_accuracy: 0.9947\n",
            "Epoch 100/100\n",
            "12/12 [==============================] - 0s 7ms/step - loss: 0.1256 - accuracy: 0.9633 - val_loss: 0.0714 - val_accuracy: 0.9947\n",
            "12/12 [==============================] - 0s 2ms/step - loss: 0.1252 - accuracy: 0.9633\n",
            "Train score: [0.12521293759346008, 0.9632545709609985]\n",
            "6/6 [==============================] - 0s 6ms/step - loss: 0.0714 - accuracy: 0.9947\n",
            "Test score: [0.07136926054954529, 0.9946808218955994]\n"
          ]
        }
      ]
    },
    {
      "cell_type": "code",
      "source": [
        "# Plot what's returned by model.fit()\n",
        "import matplotlib.pyplot as plt\n",
        "plt.plot(r.history['loss'], label='loss')\n",
        "plt.plot(r.history['val_loss'], label='val_loss')\n",
        "plt.legend()"
      ],
      "metadata": {
        "colab": {
          "base_uri": "https://localhost:8080/",
          "height": 447
        },
        "id": "BKuRiVESunik",
        "outputId": "23f62b09-5061-4858-ddb5-81710983bc12"
      },
      "execution_count": null,
      "outputs": [
        {
          "output_type": "execute_result",
          "data": {
            "text/plain": [
              "<matplotlib.legend.Legend at 0x7e5bb0442830>"
            ]
          },
          "metadata": {},
          "execution_count": 14
        },
        {
          "output_type": "display_data",
          "data": {
            "text/plain": [
              "<Figure size 640x480 with 1 Axes>"
            ],
            "image/png": "[encoded data removed]"
          },
          "metadata": {}
        }
      ]
    },
    {
      "cell_type": "code",
      "source": [
        "# Plot the accuracy too\n",
        "plt.plot(r.history['accuracy'], label='acc')\n",
        "plt.plot(r.history['val_accuracy'], label='val_acc')\n",
        "plt.legend()"
      ],
      "metadata": {
        "colab": {
          "base_uri": "https://localhost:8080/",
          "height": 447
        },
        "id": "MEDWP3y-uqOC",
        "outputId": "2c97f332-a7d4-4a5e-8900-14b17d869f60"
      },
      "execution_count": null,
      "outputs": [
        {
          "output_type": "execute_result",
          "data": {
            "text/plain": [
              "<matplotlib.legend.Legend at 0x7e5bb37c31c0>"
            ]
          },
          "metadata": {},
          "execution_count": 15
        },
        {
          "output_type": "display_data",
          "data": {
            "text/plain": [
              "<Figure size 640x480 with 1 Axes>"
            ],
            "image/png": "[encoded data removed]"
          },
          "metadata": {}
        }
      ]
    },
    {
      "cell_type": "markdown",
      "source": [
        "#Part 2: Making Predictions"
      ],
      "metadata": {
        "id": "cWQ3s5nuut7G"
      }
    },
    {
      "cell_type": "markdown",
      "source": [
        "This goes with the lecture \"Making Predictions\""
      ],
      "metadata": {
        "id": "V4k8z7Mruw_k"
      }
    },
    {
      "cell_type": "code",
      "source": [
        "# Make predictions\n",
        "P = model.predict(X_test)\n",
        "print(P) # they are outputs of the sigmoid, interpreted as probabilities p(y = 1 | x)"
      ],
      "metadata": {
        "colab": {
          "base_uri": "https://localhost:8080/"
        },
        "id": "laYf2TbPuvAY",
        "outputId": "19a84a68-55b6-483c-b26e-3978f17a32f4"
      },
      "execution_count": null,
      "outputs": [
        {
          "output_type": "stream",
          "name": "stdout",
          "text": [
            "6/6 [==============================] - 0s 3ms/step\n",
            "[[9.7918874e-01]\n",
            " [9.9895513e-01]\n",
            " [9.9661440e-01]\n",
            " [9.8612678e-01]\n",
            " [9.9133974e-01]\n",
            " [7.8097790e-01]\n",
            " [7.4116260e-02]\n",
            " [1.4118939e-03]\n",
            " [1.1662896e-03]\n",
            " [9.7714734e-01]\n",
            " [4.9676058e-01]\n",
            " [9.6218717e-01]\n",
            " [9.9119550e-01]\n",
            " [1.0475747e-02]\n",
            " [1.3761861e-05]\n",
            " [2.5403583e-03]\n",
            " [2.9247651e-01]\n",
            " [9.9113721e-01]\n",
            " [9.7762638e-01]\n",
            " [9.8458821e-01]\n",
            " [9.4128436e-01]\n",
            " [9.1610020e-01]\n",
            " [9.1203511e-01]\n",
            " [7.4013406e-01]\n",
            " [9.7784156e-01]\n",
            " [4.8790389e-06]\n",
            " [9.7505558e-01]\n",
            " [2.2934615e-03]\n",
            " [9.8062819e-01]\n",
            " [9.9856019e-01]\n",
            " [4.2427869e-06]\n",
            " [8.2944059e-01]\n",
            " [9.9587762e-01]\n",
            " [9.9469554e-01]\n",
            " [4.3041989e-02]\n",
            " [9.9489260e-01]\n",
            " [1.0887544e-02]\n",
            " [9.8599589e-01]\n",
            " [9.5125109e-01]\n",
            " [8.7676394e-01]\n",
            " [8.9918691e-01]\n",
            " [9.8335588e-01]\n",
            " [9.0355043e-06]\n",
            " [2.7286094e-03]\n",
            " [2.7018148e-04]\n",
            " [5.3367477e-02]\n",
            " [2.2991629e-04]\n",
            " [1.7512180e-01]\n",
            " [1.3393637e-02]\n",
            " [9.2840487e-01]\n",
            " [2.5848842e-01]\n",
            " [9.7624052e-01]\n",
            " [9.2557888e-04]\n",
            " [3.2505151e-02]\n",
            " [9.9328518e-01]\n",
            " [9.3440390e-01]\n",
            " [1.3375653e-05]\n",
            " [6.5792525e-01]\n",
            " [9.4840789e-01]\n",
            " [9.5083767e-01]\n",
            " [5.9215999e-01]\n",
            " [9.8713201e-01]\n",
            " [9.9582195e-01]\n",
            " [9.7869456e-01]\n",
            " [7.8432751e-01]\n",
            " [9.7368157e-01]\n",
            " [9.4329536e-01]\n",
            " [9.8115963e-01]\n",
            " [4.4702371e-03]\n",
            " [9.9855977e-01]\n",
            " [1.5742197e-03]\n",
            " [2.1604657e-02]\n",
            " [9.7206515e-01]\n",
            " [9.9872077e-01]\n",
            " [9.8667461e-01]\n",
            " [8.3729500e-01]\n",
            " [9.3310195e-01]\n",
            " [9.9414784e-01]\n",
            " [8.8866615e-01]\n",
            " [2.2824797e-01]\n",
            " [7.1791992e-02]\n",
            " [8.1467658e-01]\n",
            " [5.8645532e-02]\n",
            " [2.1633871e-04]\n",
            " [1.1695894e-04]\n",
            " [2.4450275e-01]\n",
            " [9.9620867e-01]\n",
            " [6.5321033e-06]\n",
            " [9.9949664e-01]\n",
            " [2.3677942e-06]\n",
            " [1.4831851e-02]\n",
            " [9.6702993e-01]\n",
            " [9.9935079e-01]\n",
            " [9.5026773e-01]\n",
            " [9.7216874e-01]\n",
            " [9.9520361e-01]\n",
            " [9.6008533e-01]\n",
            " [9.6400064e-01]\n",
            " [8.0369270e-01]\n",
            " [9.5468396e-01]\n",
            " [3.8692822e-05]\n",
            " [9.1855228e-01]\n",
            " [7.6511908e-01]\n",
            " [9.3126315e-01]\n",
            " [7.7957267e-01]\n",
            " [9.1099733e-01]\n",
            " [6.9078915e-02]\n",
            " [9.5049912e-01]\n",
            " [3.2883754e-01]\n",
            " [9.9228686e-01]\n",
            " [3.8888223e-02]\n",
            " [9.9786282e-01]\n",
            " [7.4361272e-02]\n",
            " [9.6835852e-01]\n",
            " [8.4691823e-01]\n",
            " [9.9387085e-01]\n",
            " [2.8880429e-02]\n",
            " [8.2072831e-04]\n",
            " [9.9747264e-01]\n",
            " [3.0300859e-03]\n",
            " [1.4669120e-02]\n",
            " [8.5286182e-01]\n",
            " [4.1515492e-03]\n",
            " [8.6890048e-01]\n",
            " [5.9231824e-01]\n",
            " [7.6081157e-01]\n",
            " [9.2413986e-01]\n",
            " [9.9677157e-01]\n",
            " [9.8545122e-01]\n",
            " [8.1394118e-01]\n",
            " [9.9762899e-01]\n",
            " [9.8291904e-01]\n",
            " [9.9511272e-01]\n",
            " [2.3086285e-02]\n",
            " [2.8761441e-02]\n",
            " [6.9866568e-04]\n",
            " [5.0837448e-04]\n",
            " [9.9670100e-01]\n",
            " [9.9719679e-01]\n",
            " [5.4055435e-04]\n",
            " [9.9838197e-01]\n",
            " [9.9565673e-01]\n",
            " [7.8148180e-01]\n",
            " [9.8922729e-01]\n",
            " [9.8818773e-01]\n",
            " [9.4157609e-04]\n",
            " [9.8972005e-01]\n",
            " [1.2097662e-02]\n",
            " [5.5365551e-01]\n",
            " [8.2296342e-01]\n",
            " [1.9866053e-09]\n",
            " [7.0430946e-01]\n",
            " [8.5712695e-01]\n",
            " [9.9980694e-01]\n",
            " [9.9984217e-01]\n",
            " [9.2325938e-01]\n",
            " [9.4250149e-01]\n",
            " [9.9565822e-01]\n",
            " [9.8456681e-01]\n",
            " [3.7523973e-01]\n",
            " [9.9596804e-01]\n",
            " [3.8891108e-04]\n",
            " [9.7515160e-01]\n",
            " [3.5941252e-03]\n",
            " [9.6806395e-01]\n",
            " [9.8180693e-01]\n",
            " [3.0764765e-01]\n",
            " [1.6797998e-05]\n",
            " [9.7356802e-01]\n",
            " [2.0482265e-03]\n",
            " [9.8175591e-01]\n",
            " [9.9805963e-01]\n",
            " [8.0714654e-03]\n",
            " [9.9601555e-01]\n",
            " [9.8125517e-01]\n",
            " [9.9748403e-01]\n",
            " [5.2174670e-04]\n",
            " [9.6566981e-01]\n",
            " [1.4269172e-02]\n",
            " [8.8381660e-07]\n",
            " [9.8159432e-01]\n",
            " [7.0573244e-04]\n",
            " [1.0586689e-02]\n",
            " [9.6819043e-01]\n",
            " [7.4878603e-01]\n",
            " [1.0567497e-03]\n",
            " [1.5597149e-04]\n",
            " [3.5241747e-04]]\n"
          ]
        }
      ]
    },
    {
      "cell_type": "code",
      "source": [
        "np.round(P)"
      ],
      "metadata": {
        "colab": {
          "base_uri": "https://localhost:8080/"
        },
        "id": "DEop29GLvACf",
        "outputId": "16b4e11a-55c4-4aea-fa29-6575c2a178f1"
      },
      "execution_count": null,
      "outputs": [
        {
          "output_type": "execute_result",
          "data": {
            "text/plain": [
              "array([1., 1., 1., 1., 1., 1., 0., 0., 0., 1., 0., 1., 1., 0., 0., 0., 0.,\n",
              "       1., 1., 1., 1., 1., 1., 1., 1., 0., 1., 0., 1., 1., 0., 1., 1., 1.,\n",
              "       0., 1., 0., 1., 1., 1., 1., 1., 0., 0., 0., 0., 0., 0., 0., 1., 0.,\n",
              "       1., 0., 0., 1., 1., 0., 1., 1., 1., 1., 1., 1., 1., 1., 1., 1., 1.,\n",
              "       0., 1., 0., 0., 1., 1., 1., 1., 1., 1., 1., 0., 0., 1., 0., 0., 0.,\n",
              "       0., 1., 0., 1., 0., 0., 1., 1., 1., 1., 1., 1., 1., 1., 1., 0., 1.,\n",
              "       1., 1., 1., 1., 0., 1., 0., 1., 0., 1., 0., 1., 1., 1., 0., 0., 1.,\n",
              "       0., 0., 1., 0., 1., 1., 1., 1., 1., 1., 1., 1., 1., 1., 0., 0., 0.,\n",
              "       0., 1., 1., 0., 1., 1., 1., 1., 1., 0., 1., 0., 1., 1., 0., 1., 1.,\n",
              "       1., 1., 1., 1., 1., 1., 0., 1., 0., 1., 0., 1., 1., 0., 0., 1., 0.,\n",
              "       1., 1., 0., 1., 1., 1., 0., 1., 0., 0., 1., 0., 0., 1., 1., 0., 0.,\n",
              "       0.], dtype=float32)"
            ]
          },
          "metadata": {},
          "execution_count": 18
        }
      ]
    },
    {
      "cell_type": "code",
      "source": [
        "# Round to get the actual predictions\n",
        "# Note: has to be flattened since the targets are size (N,) while the predictions are size (N,1)\n",
        "import numpy as np\n",
        "P = np.round(P).flatten()\n",
        "print(P)"
      ],
      "metadata": {
        "colab": {
          "base_uri": "https://localhost:8080/"
        },
        "id": "PQSO6M89u639",
        "outputId": "b150c256-7c6c-49b2-a58a-5dfef7505aaa"
      },
      "execution_count": null,
      "outputs": [
        {
          "output_type": "stream",
          "name": "stdout",
          "text": [
            "[1. 1. 1. 1. 1. 1. 0. 0. 0. 1. 0. 1. 1. 0. 0. 0. 0. 1. 1. 1. 1. 1. 1. 1.\n",
            " 1. 0. 1. 0. 1. 1. 0. 1. 1. 1. 0. 1. 0. 1. 1. 1. 1. 1. 0. 0. 0. 0. 0. 0.\n",
            " 0. 1. 0. 1. 0. 0. 1. 1. 0. 1. 1. 1. 1. 1. 1. 1. 1. 1. 1. 1. 0. 1. 0. 0.\n",
            " 1. 1. 1. 1. 1. 1. 1. 0. 0. 1. 0. 0. 0. 0. 1. 0. 1. 0. 0. 1. 1. 1. 1. 1.\n",
            " 1. 1. 1. 1. 0. 1. 1. 1. 1. 1. 0. 1. 0. 1. 0. 1. 0. 1. 1. 1. 0. 0. 1. 0.\n",
            " 0. 1. 0. 1. 1. 1. 1. 1. 1. 1. 1. 1. 1. 0. 0. 0. 0. 1. 1. 0. 1. 1. 1. 1.\n",
            " 1. 0. 1. 0. 1. 1. 0. 1. 1. 1. 1. 1. 1. 1. 1. 0. 1. 0. 1. 0. 1. 1. 0. 0.\n",
            " 1. 0. 1. 1. 0. 1. 1. 1. 0. 1. 0. 0. 1. 0. 0. 1. 1. 0. 0. 0.]\n"
          ]
        }
      ]
    },
    {
      "cell_type": "code",
      "source": [
        "# Calculate the accuracy, compare it to evaluate() output\n",
        "print(\"Manually calculated accuracy:\", np.mean(P == y_test))\n",
        "print(\"Evaluate output:\", model.evaluate(X_test, y_test))"
      ],
      "metadata": {
        "colab": {
          "base_uri": "https://localhost:8080/"
        },
        "id": "4kyqo3WNvYZK",
        "outputId": "e684be9d-74b6-4221-ae94-202f0d2ba549"
      },
      "execution_count": null,
      "outputs": [
        {
          "output_type": "stream",
          "name": "stdout",
          "text": [
            "Manually calculated accuracy: 0.9946808510638298\n",
            "6/6 [==============================] - 0s 5ms/step - loss: 0.0714 - accuracy: 0.9947\n",
            "Evaluate output: [0.07136926054954529, 0.9946808218955994]\n"
          ]
        }
      ]
    },
    {
      "cell_type": "code",
      "source": [],
      "metadata": {
        "id": "26q7YmcVvZQ-"
      },
      "execution_count": null,
      "outputs": []
    }
  ]
}