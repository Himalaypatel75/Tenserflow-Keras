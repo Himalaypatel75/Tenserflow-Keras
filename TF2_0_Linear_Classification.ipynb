{
  "nbformat": 4,
  "nbformat_minor": 0,
  "metadata": {
    "colab": {
      "provenance": [],
      "gpuType": "T4",
      "authorship_tag": "ABX9TyM/A+qLJAyS+XJI0WkHcTGZ",
      "include_colab_link": true
    },
    "kernelspec": {
      "name": "python3",
      "display_name": "Python 3"
    },
    "language_info": {
      "name": "python"
    },
    "accelerator": "GPU"
  },
  "cells": [
    {
      "cell_type": "markdown",
      "metadata": {
        "id": "view-in-github",
        "colab_type": "text"
      },
      "source": [
        "<a href=\"https://colab.research.google.com/github/Himalaypatel75/Tenserflow-Keras/blob/main/TF2_0_Linear_Classification.ipynb\" target=\"_parent\"><img src=\"https://colab.research.google.com/assets/colab-badge.svg\" alt=\"Open In Colab\"/></a>"
      ]
    },
    {
      "cell_type": "code",
      "execution_count": 51,
      "metadata": {
        "id": "Flye1lV0gHOP"
      },
      "outputs": [],
      "source": [
        "%%capture\n",
        "!pip install tensorflow"
      ]
    },
    {
      "cell_type": "code",
      "source": [
        "import tensorflow as tf\n",
        "print(tf.__version__)"
      ],
      "metadata": {
        "colab": {
          "base_uri": "https://localhost:8080/"
        },
        "id": "_lZjPZCohIsU",
        "outputId": "8dc9f053-e915-42a8-f989-3fcdc1e550ee"
      },
      "execution_count": 52,
      "outputs": [
        {
          "output_type": "stream",
          "name": "stdout",
          "text": [
            "2.15.0\n"
          ]
        }
      ]
    },
    {
      "cell_type": "code",
      "source": [
        "from sklearn.datasets import load_breast_cancer"
      ],
      "metadata": {
        "id": "XC_Ocb7XhYWM"
      },
      "execution_count": 53,
      "outputs": []
    },
    {
      "cell_type": "code",
      "source": [
        "data = load_breast_cancer()"
      ],
      "metadata": {
        "id": "Vev-bZnihiA4"
      },
      "execution_count": 54,
      "outputs": []
    },
    {
      "cell_type": "code",
      "source": [
        "data.keys()"
      ],
      "metadata": {
        "colab": {
          "base_uri": "https://localhost:8080/"
        },
        "id": "dHnHiHi1h3Cu",
        "outputId": "9adc66a8-155a-493b-a794-739a62395e9e"
      },
      "execution_count": 55,
      "outputs": [
        {
          "output_type": "execute_result",
          "data": {
            "text/plain": [
              "dict_keys(['data', 'target', 'frame', 'target_names', 'DESCR', 'feature_names', 'filename', 'data_module'])"
            ]
          },
          "metadata": {},
          "execution_count": 55
        }
      ]
    },
    {
      "cell_type": "code",
      "source": [
        "data.target_names"
      ],
      "metadata": {
        "colab": {
          "base_uri": "https://localhost:8080/"
        },
        "id": "bctetNwqh9Bo",
        "outputId": "6c10265b-bdcc-4ba0-946e-5b2dba45aeeb"
      },
      "execution_count": 56,
      "outputs": [
        {
          "output_type": "execute_result",
          "data": {
            "text/plain": [
              "array(['malignant', 'benign'], dtype='<U9')"
            ]
          },
          "metadata": {},
          "execution_count": 56
        }
      ]
    },
    {
      "cell_type": "code",
      "source": [
        "data.data.shape"
      ],
      "metadata": {
        "colab": {
          "base_uri": "https://localhost:8080/"
        },
        "id": "89cWYewWpIL_",
        "outputId": "2befccdc-5e8e-4e0b-962c-017bd2593506"
      },
      "execution_count": 57,
      "outputs": [
        {
          "output_type": "execute_result",
          "data": {
            "text/plain": [
              "(569, 30)"
            ]
          },
          "metadata": {},
          "execution_count": 57
        }
      ]
    },
    {
      "cell_type": "code",
      "source": [
        "data.feature_names"
      ],
      "metadata": {
        "colab": {
          "base_uri": "https://localhost:8080/"
        },
        "id": "AR9Xwj2dmr13",
        "outputId": "12854a1c-dfa0-4f1e-ace7-0764dd171d68"
      },
      "execution_count": 58,
      "outputs": [
        {
          "output_type": "execute_result",
          "data": {
            "text/plain": [
              "array(['mean radius', 'mean texture', 'mean perimeter', 'mean area',\n",
              "       'mean smoothness', 'mean compactness', 'mean concavity',\n",
              "       'mean concave points', 'mean symmetry', 'mean fractal dimension',\n",
              "       'radius error', 'texture error', 'perimeter error', 'area error',\n",
              "       'smoothness error', 'compactness error', 'concavity error',\n",
              "       'concave points error', 'symmetry error',\n",
              "       'fractal dimension error', 'worst radius', 'worst texture',\n",
              "       'worst perimeter', 'worst area', 'worst smoothness',\n",
              "       'worst compactness', 'worst concavity', 'worst concave points',\n",
              "       'worst symmetry', 'worst fractal dimension'], dtype='<U23')"
            ]
          },
          "metadata": {},
          "execution_count": 58
        }
      ]
    },
    {
      "cell_type": "code",
      "source": [
        "from sklearn.model_selection import train_test_split"
      ],
      "metadata": {
        "id": "kR5KLNDHoMGU"
      },
      "execution_count": 59,
      "outputs": []
    },
    {
      "cell_type": "code",
      "source": [
        "data.target.shape"
      ],
      "metadata": {
        "colab": {
          "base_uri": "https://localhost:8080/"
        },
        "id": "KPgRyQbx1BU_",
        "outputId": "2aafbbab-2abd-4e77-e457-62c6c506744c"
      },
      "execution_count": 60,
      "outputs": [
        {
          "output_type": "execute_result",
          "data": {
            "text/plain": [
              "(569,)"
            ]
          },
          "metadata": {},
          "execution_count": 60
        }
      ]
    },
    {
      "cell_type": "code",
      "source": [
        "X_train, X_test, y_train, y_test = train_test_split(data.data, data.target, test_size = 0.3, random_state=50)"
      ],
      "metadata": {
        "id": "8cHBmMYEogbm"
      },
      "execution_count": 79,
      "outputs": []
    },
    {
      "cell_type": "code",
      "source": [
        "print(X_train.shape, y_train.shape)\n",
        "print(X_test.shape, y_test.shape)"
      ],
      "metadata": {
        "colab": {
          "base_uri": "https://localhost:8080/"
        },
        "id": "6ShjgbiN0Xx3",
        "outputId": "16cfa820-a32c-4dda-f9ba-815e66e5471a"
      },
      "execution_count": 80,
      "outputs": [
        {
          "output_type": "stream",
          "name": "stdout",
          "text": [
            "(398, 30) (398,)\n",
            "(171, 30) (171,)\n"
          ]
        }
      ]
    },
    {
      "cell_type": "code",
      "source": [
        "from sklearn.preprocessing import StandardScaler"
      ],
      "metadata": {
        "id": "LBQgxKg6o9_v"
      },
      "execution_count": 81,
      "outputs": []
    },
    {
      "cell_type": "code",
      "source": [
        "scaler = StandardScaler()\n",
        "X_train = scaler.fit_transform(X_train)\n",
        "X_test = scaler.transform(X_test)"
      ],
      "metadata": {
        "id": "UhLwOwOwqoEN"
      },
      "execution_count": 82,
      "outputs": []
    },
    {
      "cell_type": "code",
      "source": [
        "print(X_train.shape, y_train.shape)\n",
        "print(X_test.shape, y_test.shape)"
      ],
      "metadata": {
        "colab": {
          "base_uri": "https://localhost:8080/"
        },
        "id": "rZhk1ccJ07FL",
        "outputId": "22f120ea-c58e-496e-fc71-e727e7c4bb40"
      },
      "execution_count": 83,
      "outputs": [
        {
          "output_type": "stream",
          "name": "stdout",
          "text": [
            "(398, 30) (398,)\n",
            "(171, 30) (171,)\n"
          ]
        }
      ]
    },
    {
      "cell_type": "code",
      "source": [
        "model = tf.keras.models.Sequential([\n",
        "    tf.keras.layers.Input(shape=(D,)),\n",
        "    tf.keras.layers.Dense(1, activation = 'sigmoid')\n",
        "])"
      ],
      "metadata": {
        "id": "EioO-LgArIAY"
      },
      "execution_count": 84,
      "outputs": []
    },
    {
      "cell_type": "code",
      "source": [
        "\"\"\" Alternative Way to doing this.\n",
        "model = tf.keras.models.Sequential()\n",
        "model.add(tf.keras.layers.Input(shape=(D,)))\n",
        "tf.keras.layers.Dense(1, activation = 'sigmoid')\n",
        "\"\"\""
      ],
      "metadata": {
        "colab": {
          "base_uri": "https://localhost:8080/",
          "height": 53
        },
        "id": "GwlW_-z3yQPN",
        "outputId": "810be84e-93c3-4307-ae10-002914ea1a9c"
      },
      "execution_count": 85,
      "outputs": [
        {
          "output_type": "execute_result",
          "data": {
            "text/plain": [
              "\" Alternative Way to doing this.\\nmodel = tf.keras.models.Sequential()\\nmodel.add(tf.keras.layers.Input(shape=(D,)))\\ntf.keras.layers.Dense(1, activation = 'sigmoid')\\n\""
            ],
            "application/vnd.google.colaboratory.intrinsic+json": {
              "type": "string"
            }
          },
          "metadata": {},
          "execution_count": 85
        }
      ]
    },
    {
      "cell_type": "code",
      "source": [
        "model.compile(optimizer='adam', loss = 'binary_crossentropy', metrics = ['accuracy'])"
      ],
      "metadata": {
        "id": "pi-QGMfqyuhL"
      },
      "execution_count": 86,
      "outputs": []
    },
    {
      "cell_type": "code",
      "source": [
        "r = model.fit(X_train, y_train, validation_data = (X_test, y_test), epochs = 100)"
      ],
      "metadata": {
        "colab": {
          "base_uri": "https://localhost:8080/"
        },
        "id": "ZCbeY_jtzYCo",
        "outputId": "e1322ce1-ce05-4551-9306-1bc8376ff827"
      },
      "execution_count": 87,
      "outputs": [
        {
          "output_type": "stream",
          "name": "stdout",
          "text": [
            "Epoch 1/100\n",
            "13/13 [==============================] - 1s 20ms/step - loss: 0.7521 - accuracy: 0.5603 - val_loss: 0.6592 - val_accuracy: 0.5965\n",
            "Epoch 2/100\n",
            "13/13 [==============================] - 0s 6ms/step - loss: 0.6613 - accuracy: 0.6256 - val_loss: 0.5935 - val_accuracy: 0.6608\n",
            "Epoch 3/100\n",
            "13/13 [==============================] - 0s 5ms/step - loss: 0.5838 - accuracy: 0.6910 - val_loss: 0.5350 - val_accuracy: 0.7018\n",
            "Epoch 4/100\n",
            "13/13 [==============================] - 0s 5ms/step - loss: 0.5190 - accuracy: 0.7513 - val_loss: 0.4851 - val_accuracy: 0.7544\n",
            "Epoch 5/100\n",
            "13/13 [==============================] - 0s 6ms/step - loss: 0.4615 - accuracy: 0.8040 - val_loss: 0.4449 - val_accuracy: 0.8012\n",
            "Epoch 6/100\n",
            "13/13 [==============================] - 0s 6ms/step - loss: 0.4168 - accuracy: 0.8442 - val_loss: 0.4092 - val_accuracy: 0.8363\n",
            "Epoch 7/100\n",
            "13/13 [==============================] - 0s 6ms/step - loss: 0.3778 - accuracy: 0.8769 - val_loss: 0.3814 - val_accuracy: 0.8655\n",
            "Epoch 8/100\n",
            "13/13 [==============================] - 0s 5ms/step - loss: 0.3478 - accuracy: 0.8920 - val_loss: 0.3583 - val_accuracy: 0.8655\n",
            "Epoch 9/100\n",
            "13/13 [==============================] - 0s 5ms/step - loss: 0.3228 - accuracy: 0.9121 - val_loss: 0.3390 - val_accuracy: 0.8655\n",
            "Epoch 10/100\n",
            "13/13 [==============================] - 0s 5ms/step - loss: 0.3022 - accuracy: 0.9146 - val_loss: 0.3227 - val_accuracy: 0.8830\n",
            "Epoch 11/100\n",
            "13/13 [==============================] - 0s 5ms/step - loss: 0.2850 - accuracy: 0.9196 - val_loss: 0.3085 - val_accuracy: 0.8947\n",
            "Epoch 12/100\n",
            "13/13 [==============================] - 0s 6ms/step - loss: 0.2700 - accuracy: 0.9372 - val_loss: 0.2966 - val_accuracy: 0.9006\n",
            "Epoch 13/100\n",
            "13/13 [==============================] - 0s 8ms/step - loss: 0.2575 - accuracy: 0.9447 - val_loss: 0.2858 - val_accuracy: 0.9006\n",
            "Epoch 14/100\n",
            "13/13 [==============================] - 0s 7ms/step - loss: 0.2462 - accuracy: 0.9472 - val_loss: 0.2765 - val_accuracy: 0.9006\n",
            "Epoch 15/100\n",
            "13/13 [==============================] - 0s 5ms/step - loss: 0.2363 - accuracy: 0.9472 - val_loss: 0.2679 - val_accuracy: 0.9064\n",
            "Epoch 16/100\n",
            "13/13 [==============================] - 0s 6ms/step - loss: 0.2274 - accuracy: 0.9497 - val_loss: 0.2601 - val_accuracy: 0.9298\n",
            "Epoch 17/100\n",
            "13/13 [==============================] - 0s 6ms/step - loss: 0.2196 - accuracy: 0.9497 - val_loss: 0.2530 - val_accuracy: 0.9357\n",
            "Epoch 18/100\n",
            "13/13 [==============================] - 0s 7ms/step - loss: 0.2122 - accuracy: 0.9523 - val_loss: 0.2467 - val_accuracy: 0.9415\n",
            "Epoch 19/100\n",
            "13/13 [==============================] - 0s 7ms/step - loss: 0.2058 - accuracy: 0.9548 - val_loss: 0.2409 - val_accuracy: 0.9415\n",
            "Epoch 20/100\n",
            "13/13 [==============================] - 0s 7ms/step - loss: 0.1997 - accuracy: 0.9548 - val_loss: 0.2354 - val_accuracy: 0.9415\n",
            "Epoch 21/100\n",
            "13/13 [==============================] - 0s 6ms/step - loss: 0.1943 - accuracy: 0.9548 - val_loss: 0.2303 - val_accuracy: 0.9474\n",
            "Epoch 22/100\n",
            "13/13 [==============================] - 0s 6ms/step - loss: 0.1890 - accuracy: 0.9598 - val_loss: 0.2256 - val_accuracy: 0.9474\n",
            "Epoch 23/100\n",
            "13/13 [==============================] - 0s 6ms/step - loss: 0.1843 - accuracy: 0.9598 - val_loss: 0.2212 - val_accuracy: 0.9474\n",
            "Epoch 24/100\n",
            "13/13 [==============================] - 0s 8ms/step - loss: 0.1798 - accuracy: 0.9598 - val_loss: 0.2170 - val_accuracy: 0.9474\n",
            "Epoch 25/100\n",
            "13/13 [==============================] - 0s 6ms/step - loss: 0.1756 - accuracy: 0.9623 - val_loss: 0.2131 - val_accuracy: 0.9474\n",
            "Epoch 26/100\n",
            "13/13 [==============================] - 0s 9ms/step - loss: 0.1716 - accuracy: 0.9623 - val_loss: 0.2094 - val_accuracy: 0.9532\n",
            "Epoch 27/100\n",
            "13/13 [==============================] - 0s 9ms/step - loss: 0.1679 - accuracy: 0.9623 - val_loss: 0.2061 - val_accuracy: 0.9532\n",
            "Epoch 28/100\n",
            "13/13 [==============================] - 0s 12ms/step - loss: 0.1645 - accuracy: 0.9598 - val_loss: 0.2029 - val_accuracy: 0.9532\n",
            "Epoch 29/100\n",
            "13/13 [==============================] - 0s 9ms/step - loss: 0.1612 - accuracy: 0.9648 - val_loss: 0.1997 - val_accuracy: 0.9532\n",
            "Epoch 30/100\n",
            "13/13 [==============================] - 0s 8ms/step - loss: 0.1580 - accuracy: 0.9673 - val_loss: 0.1965 - val_accuracy: 0.9532\n",
            "Epoch 31/100\n",
            "13/13 [==============================] - 0s 8ms/step - loss: 0.1550 - accuracy: 0.9698 - val_loss: 0.1937 - val_accuracy: 0.9591\n",
            "Epoch 32/100\n",
            "13/13 [==============================] - 0s 8ms/step - loss: 0.1522 - accuracy: 0.9698 - val_loss: 0.1910 - val_accuracy: 0.9532\n",
            "Epoch 33/100\n",
            "13/13 [==============================] - 0s 8ms/step - loss: 0.1494 - accuracy: 0.9698 - val_loss: 0.1886 - val_accuracy: 0.9532\n",
            "Epoch 34/100\n",
            "13/13 [==============================] - 0s 9ms/step - loss: 0.1469 - accuracy: 0.9673 - val_loss: 0.1861 - val_accuracy: 0.9532\n",
            "Epoch 35/100\n",
            "13/13 [==============================] - 0s 8ms/step - loss: 0.1444 - accuracy: 0.9648 - val_loss: 0.1837 - val_accuracy: 0.9532\n",
            "Epoch 36/100\n",
            "13/13 [==============================] - 0s 8ms/step - loss: 0.1422 - accuracy: 0.9648 - val_loss: 0.1815 - val_accuracy: 0.9532\n",
            "Epoch 37/100\n",
            "13/13 [==============================] - 0s 8ms/step - loss: 0.1399 - accuracy: 0.9648 - val_loss: 0.1795 - val_accuracy: 0.9591\n",
            "Epoch 38/100\n",
            "13/13 [==============================] - 0s 9ms/step - loss: 0.1378 - accuracy: 0.9648 - val_loss: 0.1775 - val_accuracy: 0.9591\n",
            "Epoch 39/100\n",
            "13/13 [==============================] - 0s 9ms/step - loss: 0.1358 - accuracy: 0.9648 - val_loss: 0.1755 - val_accuracy: 0.9591\n",
            "Epoch 40/100\n",
            "13/13 [==============================] - 0s 11ms/step - loss: 0.1338 - accuracy: 0.9648 - val_loss: 0.1737 - val_accuracy: 0.9591\n",
            "Epoch 41/100\n",
            "13/13 [==============================] - 0s 9ms/step - loss: 0.1319 - accuracy: 0.9648 - val_loss: 0.1720 - val_accuracy: 0.9591\n",
            "Epoch 42/100\n",
            "13/13 [==============================] - 0s 10ms/step - loss: 0.1301 - accuracy: 0.9648 - val_loss: 0.1703 - val_accuracy: 0.9591\n",
            "Epoch 43/100\n",
            "13/13 [==============================] - 0s 10ms/step - loss: 0.1284 - accuracy: 0.9673 - val_loss: 0.1687 - val_accuracy: 0.9591\n",
            "Epoch 44/100\n",
            "13/13 [==============================] - 0s 7ms/step - loss: 0.1267 - accuracy: 0.9673 - val_loss: 0.1672 - val_accuracy: 0.9591\n",
            "Epoch 45/100\n",
            "13/13 [==============================] - 0s 6ms/step - loss: 0.1251 - accuracy: 0.9673 - val_loss: 0.1657 - val_accuracy: 0.9591\n",
            "Epoch 46/100\n",
            "13/13 [==============================] - 0s 6ms/step - loss: 0.1235 - accuracy: 0.9673 - val_loss: 0.1643 - val_accuracy: 0.9591\n",
            "Epoch 47/100\n",
            "13/13 [==============================] - 0s 7ms/step - loss: 0.1220 - accuracy: 0.9673 - val_loss: 0.1629 - val_accuracy: 0.9591\n",
            "Epoch 48/100\n",
            "13/13 [==============================] - 0s 7ms/step - loss: 0.1206 - accuracy: 0.9673 - val_loss: 0.1614 - val_accuracy: 0.9591\n",
            "Epoch 49/100\n",
            "13/13 [==============================] - 0s 6ms/step - loss: 0.1191 - accuracy: 0.9698 - val_loss: 0.1602 - val_accuracy: 0.9591\n",
            "Epoch 50/100\n",
            "13/13 [==============================] - 0s 7ms/step - loss: 0.1178 - accuracy: 0.9698 - val_loss: 0.1589 - val_accuracy: 0.9591\n",
            "Epoch 51/100\n",
            "13/13 [==============================] - 0s 6ms/step - loss: 0.1165 - accuracy: 0.9698 - val_loss: 0.1576 - val_accuracy: 0.9591\n",
            "Epoch 52/100\n",
            "13/13 [==============================] - 0s 7ms/step - loss: 0.1153 - accuracy: 0.9698 - val_loss: 0.1564 - val_accuracy: 0.9591\n",
            "Epoch 53/100\n",
            "13/13 [==============================] - 0s 6ms/step - loss: 0.1140 - accuracy: 0.9698 - val_loss: 0.1553 - val_accuracy: 0.9591\n",
            "Epoch 54/100\n",
            "13/13 [==============================] - 0s 6ms/step - loss: 0.1128 - accuracy: 0.9698 - val_loss: 0.1541 - val_accuracy: 0.9591\n",
            "Epoch 55/100\n",
            "13/13 [==============================] - 0s 6ms/step - loss: 0.1116 - accuracy: 0.9698 - val_loss: 0.1531 - val_accuracy: 0.9591\n",
            "Epoch 56/100\n",
            "13/13 [==============================] - 0s 6ms/step - loss: 0.1105 - accuracy: 0.9698 - val_loss: 0.1519 - val_accuracy: 0.9591\n",
            "Epoch 57/100\n",
            "13/13 [==============================] - 0s 7ms/step - loss: 0.1094 - accuracy: 0.9724 - val_loss: 0.1509 - val_accuracy: 0.9591\n",
            "Epoch 58/100\n",
            "13/13 [==============================] - 0s 6ms/step - loss: 0.1084 - accuracy: 0.9724 - val_loss: 0.1500 - val_accuracy: 0.9591\n",
            "Epoch 59/100\n",
            "13/13 [==============================] - 0s 8ms/step - loss: 0.1074 - accuracy: 0.9724 - val_loss: 0.1491 - val_accuracy: 0.9591\n",
            "Epoch 60/100\n",
            "13/13 [==============================] - 0s 7ms/step - loss: 0.1064 - accuracy: 0.9749 - val_loss: 0.1482 - val_accuracy: 0.9591\n",
            "Epoch 61/100\n",
            "13/13 [==============================] - 0s 5ms/step - loss: 0.1055 - accuracy: 0.9749 - val_loss: 0.1474 - val_accuracy: 0.9591\n",
            "Epoch 62/100\n",
            "13/13 [==============================] - 0s 6ms/step - loss: 0.1045 - accuracy: 0.9749 - val_loss: 0.1464 - val_accuracy: 0.9591\n",
            "Epoch 63/100\n",
            "13/13 [==============================] - 0s 7ms/step - loss: 0.1036 - accuracy: 0.9749 - val_loss: 0.1456 - val_accuracy: 0.9591\n",
            "Epoch 64/100\n",
            "13/13 [==============================] - 0s 6ms/step - loss: 0.1027 - accuracy: 0.9749 - val_loss: 0.1448 - val_accuracy: 0.9591\n",
            "Epoch 65/100\n",
            "13/13 [==============================] - 0s 6ms/step - loss: 0.1018 - accuracy: 0.9774 - val_loss: 0.1440 - val_accuracy: 0.9591\n",
            "Epoch 66/100\n",
            "13/13 [==============================] - 0s 6ms/step - loss: 0.1010 - accuracy: 0.9799 - val_loss: 0.1432 - val_accuracy: 0.9591\n",
            "Epoch 67/100\n",
            "13/13 [==============================] - 0s 6ms/step - loss: 0.1001 - accuracy: 0.9799 - val_loss: 0.1425 - val_accuracy: 0.9591\n",
            "Epoch 68/100\n",
            "13/13 [==============================] - 0s 6ms/step - loss: 0.0993 - accuracy: 0.9799 - val_loss: 0.1419 - val_accuracy: 0.9649\n",
            "Epoch 69/100\n",
            "13/13 [==============================] - 0s 6ms/step - loss: 0.0986 - accuracy: 0.9799 - val_loss: 0.1411 - val_accuracy: 0.9649\n",
            "Epoch 70/100\n",
            "13/13 [==============================] - 0s 6ms/step - loss: 0.0978 - accuracy: 0.9799 - val_loss: 0.1403 - val_accuracy: 0.9649\n",
            "Epoch 71/100\n",
            "13/13 [==============================] - 0s 7ms/step - loss: 0.0970 - accuracy: 0.9799 - val_loss: 0.1397 - val_accuracy: 0.9708\n",
            "Epoch 72/100\n",
            "13/13 [==============================] - 0s 6ms/step - loss: 0.0963 - accuracy: 0.9824 - val_loss: 0.1391 - val_accuracy: 0.9708\n",
            "Epoch 73/100\n",
            "13/13 [==============================] - 0s 6ms/step - loss: 0.0956 - accuracy: 0.9824 - val_loss: 0.1385 - val_accuracy: 0.9708\n",
            "Epoch 74/100\n",
            "13/13 [==============================] - 0s 6ms/step - loss: 0.0949 - accuracy: 0.9824 - val_loss: 0.1380 - val_accuracy: 0.9708\n",
            "Epoch 75/100\n",
            "13/13 [==============================] - 0s 6ms/step - loss: 0.0942 - accuracy: 0.9824 - val_loss: 0.1375 - val_accuracy: 0.9708\n",
            "Epoch 76/100\n",
            "13/13 [==============================] - 0s 6ms/step - loss: 0.0936 - accuracy: 0.9824 - val_loss: 0.1368 - val_accuracy: 0.9708\n",
            "Epoch 77/100\n",
            "13/13 [==============================] - 0s 5ms/step - loss: 0.0930 - accuracy: 0.9824 - val_loss: 0.1364 - val_accuracy: 0.9708\n",
            "Epoch 78/100\n",
            "13/13 [==============================] - 0s 6ms/step - loss: 0.0923 - accuracy: 0.9824 - val_loss: 0.1358 - val_accuracy: 0.9708\n",
            "Epoch 79/100\n",
            "13/13 [==============================] - 0s 5ms/step - loss: 0.0917 - accuracy: 0.9824 - val_loss: 0.1353 - val_accuracy: 0.9708\n",
            "Epoch 80/100\n",
            "13/13 [==============================] - 0s 6ms/step - loss: 0.0911 - accuracy: 0.9824 - val_loss: 0.1349 - val_accuracy: 0.9708\n",
            "Epoch 81/100\n",
            "13/13 [==============================] - 0s 5ms/step - loss: 0.0905 - accuracy: 0.9824 - val_loss: 0.1344 - val_accuracy: 0.9708\n",
            "Epoch 82/100\n",
            "13/13 [==============================] - 0s 7ms/step - loss: 0.0899 - accuracy: 0.9824 - val_loss: 0.1340 - val_accuracy: 0.9708\n",
            "Epoch 83/100\n",
            "13/13 [==============================] - 0s 7ms/step - loss: 0.0894 - accuracy: 0.9824 - val_loss: 0.1336 - val_accuracy: 0.9708\n",
            "Epoch 84/100\n",
            "13/13 [==============================] - 0s 6ms/step - loss: 0.0888 - accuracy: 0.9824 - val_loss: 0.1331 - val_accuracy: 0.9708\n",
            "Epoch 85/100\n",
            "13/13 [==============================] - 0s 6ms/step - loss: 0.0883 - accuracy: 0.9824 - val_loss: 0.1326 - val_accuracy: 0.9708\n",
            "Epoch 86/100\n",
            "13/13 [==============================] - 0s 6ms/step - loss: 0.0877 - accuracy: 0.9824 - val_loss: 0.1323 - val_accuracy: 0.9708\n",
            "Epoch 87/100\n",
            "13/13 [==============================] - 0s 6ms/step - loss: 0.0872 - accuracy: 0.9824 - val_loss: 0.1319 - val_accuracy: 0.9708\n",
            "Epoch 88/100\n",
            "13/13 [==============================] - 0s 6ms/step - loss: 0.0867 - accuracy: 0.9824 - val_loss: 0.1315 - val_accuracy: 0.9708\n",
            "Epoch 89/100\n",
            "13/13 [==============================] - 0s 6ms/step - loss: 0.0862 - accuracy: 0.9824 - val_loss: 0.1311 - val_accuracy: 0.9708\n",
            "Epoch 90/100\n",
            "13/13 [==============================] - 0s 6ms/step - loss: 0.0857 - accuracy: 0.9824 - val_loss: 0.1307 - val_accuracy: 0.9766\n",
            "Epoch 91/100\n",
            "13/13 [==============================] - 0s 7ms/step - loss: 0.0852 - accuracy: 0.9824 - val_loss: 0.1304 - val_accuracy: 0.9766\n",
            "Epoch 92/100\n",
            "13/13 [==============================] - 0s 6ms/step - loss: 0.0847 - accuracy: 0.9824 - val_loss: 0.1299 - val_accuracy: 0.9766\n",
            "Epoch 93/100\n",
            "13/13 [==============================] - 0s 6ms/step - loss: 0.0842 - accuracy: 0.9824 - val_loss: 0.1296 - val_accuracy: 0.9766\n",
            "Epoch 94/100\n",
            "13/13 [==============================] - 0s 5ms/step - loss: 0.0838 - accuracy: 0.9824 - val_loss: 0.1293 - val_accuracy: 0.9766\n",
            "Epoch 95/100\n",
            "13/13 [==============================] - 0s 7ms/step - loss: 0.0833 - accuracy: 0.9824 - val_loss: 0.1289 - val_accuracy: 0.9766\n",
            "Epoch 96/100\n",
            "13/13 [==============================] - 0s 6ms/step - loss: 0.0829 - accuracy: 0.9824 - val_loss: 0.1287 - val_accuracy: 0.9766\n",
            "Epoch 97/100\n",
            "13/13 [==============================] - 0s 6ms/step - loss: 0.0824 - accuracy: 0.9824 - val_loss: 0.1284 - val_accuracy: 0.9766\n",
            "Epoch 98/100\n",
            "13/13 [==============================] - 0s 7ms/step - loss: 0.0820 - accuracy: 0.9824 - val_loss: 0.1282 - val_accuracy: 0.9766\n",
            "Epoch 99/100\n",
            "13/13 [==============================] - 0s 6ms/step - loss: 0.0816 - accuracy: 0.9824 - val_loss: 0.1279 - val_accuracy: 0.9766\n",
            "Epoch 100/100\n",
            "13/13 [==============================] - 0s 6ms/step - loss: 0.0812 - accuracy: 0.9824 - val_loss: 0.1276 - val_accuracy: 0.9766\n"
          ]
        }
      ]
    },
    {
      "cell_type": "code",
      "source": [
        "print(f\"Train score: {model.evaluate(X_train, y_train)}\")\n",
        "print(f\"Test score: {model.evaluate(X_test, y_test)}\")"
      ],
      "metadata": {
        "colab": {
          "base_uri": "https://localhost:8080/"
        },
        "id": "itdWi3jq2SvK",
        "outputId": "0fe3c059-d7cb-4b38-d000-bffa119bcfeb"
      },
      "execution_count": 88,
      "outputs": [
        {
          "output_type": "stream",
          "name": "stdout",
          "text": [
            "13/13 [==============================] - 0s 4ms/step - loss: 0.0809 - accuracy: 0.9824\n",
            "Train score: [0.08090245723724365, 0.9824120402336121]\n",
            "6/6 [==============================] - 0s 5ms/step - loss: 0.1276 - accuracy: 0.9766\n",
            "Test score: [0.12762188911437988, 0.9766082167625427]\n"
          ]
        }
      ]
    },
    {
      "cell_type": "code",
      "source": [
        "import matplotlib.pyplot as plt\n",
        "plt.plot(r.history['loss'], label = 'loss')\n",
        "plt.plot(r.history['val_loss'], label = 'val_loss')\n",
        "plt.plot(r.history['accuracy'], label = 'acc')\n",
        "plt.plot(r.history['val_accuracy'], label = 'val_acc')\n",
        "plt.legend();"
      ],
      "metadata": {
        "colab": {
          "base_uri": "https://localhost:8080/",
          "height": 430
        },
        "id": "CZNVKo7s2pzn",
        "outputId": "5d1fab8a-9865-4f53-d1e3-9d67e42506d2"
      },
      "execution_count": 90,
      "outputs": [
        {
          "output_type": "display_data",
          "data": {
            "text/plain": [
              "<Figure size 640x480 with 1 Axes>"
            ],
            "image/png": "[encoded data removed]"
          },
          "metadata": {}
        }
      ]
    },
    {
      "cell_type": "code",
      "source": [],
      "metadata": {
        "id": "x1Kqv_f927eu"
      },
      "execution_count": null,
      "outputs": []
    }
  ]
}