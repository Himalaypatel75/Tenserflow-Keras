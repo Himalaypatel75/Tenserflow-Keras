{
  "cells": [
    {
      "cell_type": "markdown",
      "metadata": {
        "id": "view-in-github",
        "colab_type": "text"
      },
      "source": [
        "<a href=\"https://colab.research.google.com/github/Himalaypatel75/Tenserflow-Keras/blob/main/TF2_0_CIFAR_CNN.ipynb\" target=\"_parent\"><img src=\"https://colab.research.google.com/assets/colab-badge.svg\" alt=\"Open In Colab\"/></a>"
      ]
    },
    {
      "cell_type": "code",
      "execution_count": null,
      "metadata": {
        "colab": {
          "background_save": true
        },
        "id": "BXr3Z8hgdJKe",
        "outputId": "54c3fbe4-79b7-4638-f6d8-5a5ebee68fbd"
      },
      "outputs": [
        {
          "name": "stdout",
          "output_type": "stream",
          "text": [
            "Colab only includes TensorFlow 2.x; %tensorflow_version has no effect.\n",
            "2.15.0\n"
          ]
        }
      ],
      "source": [
        "# Install TensorFlow\n",
        "# !pip install -q tensorflow-gpu==2.0.0-beta1\n",
        "\n",
        "try:\n",
        "  %tensorflow_version 2.x  # Colab only.\n",
        "except Exception:\n",
        "  pass\n",
        "\n",
        "import tensorflow as tf\n",
        "print(tf.__version__)"
      ]
    },
    {
      "cell_type": "code",
      "execution_count": null,
      "metadata": {
        "colab": {
          "background_save": true
        },
        "id": "3DgpjRYPgI2a"
      },
      "outputs": [],
      "source": [
        "# additional imports\n",
        "\n",
        "import numpy as np\n",
        "import matplotlib.pyplot as plt\n",
        "from tensorflow.keras.layers import Input, Conv2D, Dense, Flatten, Dropout, GlobalMaxPooling2D, MaxPooling2D, BatchNormalization\n",
        "from tensorflow.keras.models import Model"
      ]
    },
    {
      "cell_type": "code",
      "execution_count": null,
      "metadata": {
        "colab": {
          "background_save": true
        },
        "id": "1OMC6pB0gWt_",
        "outputId": "e3cda6b4-a616-4e80-a9e8-dedc05966675"
      },
      "outputs": [
        {
          "name": "stdout",
          "output_type": "stream",
          "text": [
            "x_train.shape: (50000, 32, 32, 3)\n",
            "y_train.shape (50000,)\n"
          ]
        }
      ],
      "source": [
        "# Load in the data\n",
        "cifar10 = tf.keras.datasets.cifar10\n",
        "\n",
        "(x_train, y_train), (x_test, y_test) = cifar10.load_data()\n",
        "x_train, x_test = x_train / 255.0, x_test / 255.0\n",
        "y_train, y_test = y_train.flatten(), y_test.flatten()\n",
        "print(\"x_train.shape:\", x_train.shape)\n",
        "print(\"y_train.shape\", y_train.shape)"
      ]
    },
    {
      "cell_type": "code",
      "execution_count": null,
      "metadata": {
        "colab": {
          "background_save": true
        },
        "id": "5hgfudJvGgUn",
        "outputId": "7a1c0405-a166-4832-d24b-67baa0d40943"
      },
      "outputs": [
        {
          "name": "stdout",
          "output_type": "stream",
          "text": [
            "number of classes: 10\n"
          ]
        }
      ],
      "source": [
        "# number of classes\n",
        "K = len(set(y_train))\n",
        "print(\"number of classes:\", K)"
      ]
    },
    {
      "cell_type": "code",
      "execution_count": null,
      "metadata": {
        "colab": {
          "background_save": true
        },
        "id": "UMfwEHUZ3HjF",
        "outputId": "2fab1abb-ebb6-4869-b457-8bcadb49af2a"
      },
      "outputs": [
        {
          "data": {
            "text/plain": [
              "array([[[0.23137255, 0.24313725, 0.24705882],\n",
              "        [0.16862745, 0.18039216, 0.17647059],\n",
              "        [0.19607843, 0.18823529, 0.16862745],\n",
              "        ...,\n",
              "        [0.61960784, 0.51764706, 0.42352941],\n",
              "        [0.59607843, 0.49019608, 0.4       ],\n",
              "        [0.58039216, 0.48627451, 0.40392157]],\n",
              "\n",
              "       [[0.0627451 , 0.07843137, 0.07843137],\n",
              "        [0.        , 0.        , 0.        ],\n",
              "        [0.07058824, 0.03137255, 0.        ],\n",
              "        ...,\n",
              "        [0.48235294, 0.34509804, 0.21568627],\n",
              "        [0.46666667, 0.3254902 , 0.19607843],\n",
              "        [0.47843137, 0.34117647, 0.22352941]],\n",
              "\n",
              "       [[0.09803922, 0.09411765, 0.08235294],\n",
              "        [0.0627451 , 0.02745098, 0.        ],\n",
              "        [0.19215686, 0.10588235, 0.03137255],\n",
              "        ...,\n",
              "        [0.4627451 , 0.32941176, 0.19607843],\n",
              "        [0.47058824, 0.32941176, 0.19607843],\n",
              "        [0.42745098, 0.28627451, 0.16470588]],\n",
              "\n",
              "       ...,\n",
              "\n",
              "       [[0.81568627, 0.66666667, 0.37647059],\n",
              "        [0.78823529, 0.6       , 0.13333333],\n",
              "        [0.77647059, 0.63137255, 0.10196078],\n",
              "        ...,\n",
              "        [0.62745098, 0.52156863, 0.2745098 ],\n",
              "        [0.21960784, 0.12156863, 0.02745098],\n",
              "        [0.20784314, 0.13333333, 0.07843137]],\n",
              "\n",
              "       [[0.70588235, 0.54509804, 0.37647059],\n",
              "        [0.67843137, 0.48235294, 0.16470588],\n",
              "        [0.72941176, 0.56470588, 0.11764706],\n",
              "        ...,\n",
              "        [0.72156863, 0.58039216, 0.36862745],\n",
              "        [0.38039216, 0.24313725, 0.13333333],\n",
              "        [0.3254902 , 0.20784314, 0.13333333]],\n",
              "\n",
              "       [[0.69411765, 0.56470588, 0.45490196],\n",
              "        [0.65882353, 0.50588235, 0.36862745],\n",
              "        [0.70196078, 0.55686275, 0.34117647],\n",
              "        ...,\n",
              "        [0.84705882, 0.72156863, 0.54901961],\n",
              "        [0.59215686, 0.4627451 , 0.32941176],\n",
              "        [0.48235294, 0.36078431, 0.28235294]]])"
            ]
          },
          "execution_count": 12,
          "metadata": {},
          "output_type": "execute_result"
        }
      ],
      "source": [
        "x_train[0]"
      ]
    },
    {
      "cell_type": "code",
      "execution_count": null,
      "metadata": {
        "id": "RQ-uf3tmGkMO"
      },
      "outputs": [],
      "source": [
        "# Build the model using the functional API\n",
        "i = Input(shape=x_train[0].shape)\n",
        "# x = Conv2D(32, (3, 3), strides=2, activation='relu')(i)\n",
        "# x = Conv2D(64, (3, 3), strides=2, activation='relu')(x)\n",
        "# x = Conv2D(128, (3, 3), strides=2, activation='relu')(x)\n",
        "\n",
        "x = Conv2D(32, (3, 3), activation='relu', padding='same')(i)\n",
        "x = BatchNormalization()(x)\n",
        "x = Conv2D(32, (3, 3), activation='relu', padding='same')(x)\n",
        "x = BatchNormalization()(x)\n",
        "x = MaxPooling2D((2, 2))(x)\n",
        "# x = Dropout(0.2)(x)\n",
        "x = Conv2D(64, (3, 3), activation='relu', padding='same')(x)\n",
        "x = BatchNormalization()(x)\n",
        "x = Conv2D(64, (3, 3), activation='relu', padding='same')(x)\n",
        "x = BatchNormalization()(x)\n",
        "x = MaxPooling2D((2, 2))(x)\n",
        "# x = Dropout(0.2)(x)\n",
        "x = Conv2D(128, (3, 3), activation='relu', padding='same')(x)\n",
        "x = BatchNormalization()(x)\n",
        "x = Conv2D(128, (3, 3), activation='relu', padding='same')(x)\n",
        "x = BatchNormalization()(x)\n",
        "x = MaxPooling2D((2, 2))(x)\n",
        "# x = Dropout(0.2)(x)\n",
        "\n",
        "# x = GlobalMaxPooling2D()(x)\n",
        "x = Flatten()(x)\n",
        "x = Dropout(0.2)(x)\n",
        "x = Dense(1024, activation='relu')(x)\n",
        "x = Dropout(0.2)(x)\n",
        "x = Dense(K, activation='softmax')(x)\n",
        "\n",
        "model = Model(i, x)"
      ]
    },
    {
      "cell_type": "code",
      "execution_count": null,
      "metadata": {
        "id": "YC1RetSNHBPn"
      },
      "outputs": [],
      "source": [
        "# Compile\n",
        "# Note: make sure you are using the GPU for this!\n",
        "model.compile(optimizer='adam',\n",
        "              loss='sparse_categorical_crossentropy',\n",
        "              metrics=['accuracy'])"
      ]
    },
    {
      "cell_type": "code",
      "execution_count": null,
      "metadata": {
        "colab": {
          "base_uri": "https://localhost:8080/"
        },
        "id": "PZEZqmNnHC17",
        "outputId": "7ad54483-27dc-4eff-9e38-018fb29ba1c2"
      },
      "outputs": [
        {
          "name": "stdout",
          "output_type": "stream",
          "text": [
            "Epoch 1/50\n",
            "1563/1563 [==============================] - 483s 307ms/step - loss: 1.3061 - accuracy: 0.5508 - val_loss: 0.9680 - val_accuracy: 0.6658\n",
            "Epoch 2/50\n",
            "1563/1563 [==============================] - 446s 285ms/step - loss: 0.8434 - accuracy: 0.7055 - val_loss: 0.8358 - val_accuracy: 0.7103\n",
            "Epoch 3/50\n",
            "1563/1563 [==============================] - 452s 289ms/step - loss: 0.6847 - accuracy: 0.7630 - val_loss: 0.7776 - val_accuracy: 0.7337\n",
            "Epoch 4/50\n",
            "1563/1563 [==============================] - 449s 287ms/step - loss: 0.5903 - accuracy: 0.7968 - val_loss: 1.0164 - val_accuracy: 0.6977\n",
            "Epoch 5/50\n",
            "1563/1563 [==============================] - 438s 280ms/step - loss: 0.5023 - accuracy: 0.8278 - val_loss: 0.6440 - val_accuracy: 0.7876\n",
            "Epoch 6/50\n",
            "1563/1563 [==============================] - 438s 280ms/step - loss: 0.4189 - accuracy: 0.8553 - val_loss: 0.6470 - val_accuracy: 0.7910\n",
            "Epoch 7/50\n",
            "1563/1563 [==============================] - 441s 282ms/step - loss: 0.3587 - accuracy: 0.8767 - val_loss: 0.6507 - val_accuracy: 0.8054\n",
            "Epoch 8/50\n",
            "1563/1563 [==============================] - 447s 286ms/step - loss: 0.3024 - accuracy: 0.8964 - val_loss: 0.5882 - val_accuracy: 0.8210\n",
            "Epoch 9/50\n",
            "1563/1563 [==============================] - 438s 280ms/step - loss: 0.2626 - accuracy: 0.9104 - val_loss: 0.5910 - val_accuracy: 0.8114\n",
            "Epoch 10/50\n",
            "1563/1563 [==============================] - 434s 277ms/step - loss: 0.2226 - accuracy: 0.9235 - val_loss: 0.6696 - val_accuracy: 0.8135\n",
            "Epoch 11/50\n",
            "1563/1563 [==============================] - 432s 277ms/step - loss: 0.1954 - accuracy: 0.9341 - val_loss: 0.6576 - val_accuracy: 0.8279\n",
            "Epoch 12/50\n",
            "1563/1563 [==============================] - 433s 277ms/step - loss: 0.1794 - accuracy: 0.9381 - val_loss: 0.7171 - val_accuracy: 0.8029\n",
            "Epoch 13/50\n",
            "1563/1563 [==============================] - 432s 277ms/step - loss: 0.1594 - accuracy: 0.9463 - val_loss: 0.6918 - val_accuracy: 0.8320\n",
            "Epoch 14/50\n",
            "1563/1563 [==============================] - 430s 275ms/step - loss: 0.1476 - accuracy: 0.9497 - val_loss: 0.7471 - val_accuracy: 0.8212\n",
            "Epoch 15/50\n",
            "1563/1563 [==============================] - 432s 276ms/step - loss: 0.1346 - accuracy: 0.9545 - val_loss: 0.7731 - val_accuracy: 0.8258\n",
            "Epoch 16/50\n",
            "1563/1563 [==============================] - 434s 277ms/step - loss: 0.1265 - accuracy: 0.9578 - val_loss: 0.6578 - val_accuracy: 0.8325\n",
            "Epoch 17/50\n",
            "1563/1563 [==============================] - 434s 277ms/step - loss: 0.1100 - accuracy: 0.9628 - val_loss: 0.7957 - val_accuracy: 0.8211\n",
            "Epoch 18/50\n",
            "1563/1563 [==============================] - 432s 276ms/step - loss: 0.1175 - accuracy: 0.9610 - val_loss: 0.7658 - val_accuracy: 0.8311\n",
            "Epoch 19/50\n",
            "1563/1563 [==============================] - 434s 278ms/step - loss: 0.0994 - accuracy: 0.9663 - val_loss: 0.7156 - val_accuracy: 0.8357\n",
            "Epoch 20/50\n",
            "1563/1563 [==============================] - 428s 274ms/step - loss: 0.0969 - accuracy: 0.9680 - val_loss: 0.7825 - val_accuracy: 0.8219\n",
            "Epoch 21/50\n",
            "1563/1563 [==============================] - 425s 272ms/step - loss: 0.0890 - accuracy: 0.9700 - val_loss: 0.7293 - val_accuracy: 0.8399\n",
            "Epoch 22/50\n",
            "1563/1563 [==============================] - 433s 277ms/step - loss: 0.0886 - accuracy: 0.9706 - val_loss: 0.9086 - val_accuracy: 0.8201\n",
            "Epoch 23/50\n",
            "1563/1563 [==============================] - 433s 277ms/step - loss: 0.0835 - accuracy: 0.9725 - val_loss: 0.7791 - val_accuracy: 0.8298\n",
            "Epoch 24/50\n",
            "1563/1563 [==============================] - 432s 276ms/step - loss: 0.0845 - accuracy: 0.9722 - val_loss: 0.7327 - val_accuracy: 0.8372\n",
            "Epoch 25/50\n",
            "1563/1563 [==============================] - 455s 291ms/step - loss: 0.0743 - accuracy: 0.9747 - val_loss: 0.8116 - val_accuracy: 0.8342\n",
            "Epoch 26/50\n",
            "1563/1563 [==============================] - 431s 275ms/step - loss: 0.0736 - accuracy: 0.9765 - val_loss: 0.7886 - val_accuracy: 0.8441\n",
            "Epoch 27/50\n",
            "1563/1563 [==============================] - 432s 276ms/step - loss: 0.0693 - accuracy: 0.9777 - val_loss: 0.7874 - val_accuracy: 0.8306\n",
            "Epoch 28/50\n",
            "1563/1563 [==============================] - 429s 274ms/step - loss: 0.0681 - accuracy: 0.9773 - val_loss: 0.8514 - val_accuracy: 0.8301\n",
            "Epoch 29/50\n",
            "1563/1563 [==============================] - 432s 276ms/step - loss: 0.0678 - accuracy: 0.9779 - val_loss: 0.8638 - val_accuracy: 0.8194\n",
            "Epoch 30/50\n",
            "1383/1563 [=========================>....] - ETA: 47s - loss: 0.0627 - accuracy: 0.9800"
          ]
        }
      ],
      "source": [
        "# Fit\n",
        "r = model.fit(x_train, y_train, validation_data=(x_test, y_test), epochs=50)\n"
      ]
    },
    {
      "cell_type": "code",
      "execution_count": null,
      "metadata": {
        "id": "8VTlQFyjHE92"
      },
      "outputs": [],
      "source": [
        "# Fit with data augmentation\n",
        "# Note: if you run this AFTER calling the previous model.fit(), it will CONTINUE training where it left off\n",
        "batch_size = 32\n",
        "data_generator = tf.keras.preprocessing.image.ImageDataGenerator(width_shift_range=0.1, height_shift_range=0.1, horizontal_flip=True)\n",
        "train_generator = data_generator.flow(x_train, y_train, batch_size)\n",
        "steps_per_epoch = x_train.shape[0] // batch_size\n",
        "r = model.fit(train_generator, validation_data=(x_test, y_test), steps_per_epoch=steps_per_epoch, epochs=50)"
      ]
    },
    {
      "cell_type": "code",
      "execution_count": null,
      "metadata": {
        "id": "mGkzKcd8HHOP"
      },
      "outputs": [],
      "source": [
        "# Plot loss per iteration\n",
        "import matplotlib.pyplot as plt\n",
        "plt.plot(r.history['loss'], label='loss')\n",
        "plt.plot(r.history['val_loss'], label='val_loss')\n",
        "plt.legend()"
      ]
    },
    {
      "cell_type": "code",
      "execution_count": null,
      "metadata": {
        "id": "yxmQT4nfHIzu"
      },
      "outputs": [],
      "source": [
        "# Plot accuracy per iteration\n",
        "plt.plot(r.history['accuracy'], label='acc')\n",
        "plt.plot(r.history['val_accuracy'], label='val_acc')\n",
        "plt.legend()"
      ]
    },
    {
      "cell_type": "code",
      "execution_count": null,
      "metadata": {
        "id": "cc3ifinMHNdd"
      },
      "outputs": [],
      "source": [
        "# Plot confusion matrix\n",
        "from sklearn.metrics import confusion_matrix\n",
        "import itertools\n",
        "\n",
        "def plot_confusion_matrix(cm, classes,\n",
        "                          normalize=False,\n",
        "                          title='Confusion matrix',\n",
        "                          cmap=plt.cm.Blues):\n",
        "  \"\"\"\n",
        "  This function prints and plots the confusion matrix.\n",
        "  Normalization can be applied by setting `normalize=True`.\n",
        "  \"\"\"\n",
        "  if normalize:\n",
        "      cm = cm.astype('float') / cm.sum(axis=1)[:, np.newaxis]\n",
        "      print(\"Normalized confusion matrix\")\n",
        "  else:\n",
        "      print('Confusion matrix, without normalization')\n",
        "\n",
        "  print(cm)\n",
        "\n",
        "  plt.imshow(cm, interpolation='nearest', cmap=cmap)\n",
        "  plt.title(title)\n",
        "  plt.colorbar()\n",
        "  tick_marks = np.arange(len(classes))\n",
        "  plt.xticks(tick_marks, classes, rotation=45)\n",
        "  plt.yticks(tick_marks, classes)\n",
        "\n",
        "  fmt = '.2f' if normalize else 'd'\n",
        "  thresh = cm.max() / 2.\n",
        "  for i, j in itertools.product(range(cm.shape[0]), range(cm.shape[1])):\n",
        "      plt.text(j, i, format(cm[i, j], fmt),\n",
        "               horizontalalignment=\"center\",\n",
        "               color=\"white\" if cm[i, j] > thresh else \"black\")\n",
        "\n",
        "  plt.tight_layout()\n",
        "  plt.ylabel('True label')\n",
        "  plt.xlabel('Predicted label')\n",
        "  plt.show()\n",
        "\n",
        "\n",
        "p_test = model.predict(x_test).argmax(axis=1)\n",
        "cm = confusion_matrix(y_test, p_test)\n",
        "plot_confusion_matrix(cm, list(range(10)))"
      ]
    },
    {
      "cell_type": "code",
      "execution_count": null,
      "metadata": {
        "id": "qd2dgEoPHP-q"
      },
      "outputs": [],
      "source": [
        "# label mapping\n",
        "labels = '''airplane\n",
        "automobile\n",
        "bird\n",
        "cat\n",
        "deer\n",
        "dog\n",
        "frog\n",
        "horse\n",
        "ship\n",
        "truck'''.split()"
      ]
    },
    {
      "cell_type": "code",
      "execution_count": null,
      "metadata": {
        "id": "THnpi379HRs7"
      },
      "outputs": [],
      "source": [
        "# Show some misclassified examples\n",
        "misclassified_idx = np.where(p_test != y_test)[0]\n",
        "i = np.random.choice(misclassified_idx)\n",
        "plt.imshow(x_test[i], cmap='gray')\n",
        "plt.title(\"True label: %s Predicted: %s\" % (labels[y_test[i]], labels[p_test[i]]));"
      ]
    },
    {
      "cell_type": "code",
      "execution_count": null,
      "metadata": {
        "id": "acxg9ecRHT1-"
      },
      "outputs": [],
      "source": [
        "# Now that the model is so large, it's useful to summarize it\n",
        "model.summary()"
      ]
    }
  ],
  "metadata": {
    "colab": {
      "provenance": [],
      "authorship_tag": "ABX9TyNgJ8gbIDqaovm/Kq278Xnq",
      "include_colab_link": true
    },
    "kernelspec": {
      "display_name": "Python 3",
      "name": "python3"
    },
    "language_info": {
      "name": "python"
    }
  },
  "nbformat": 4,
  "nbformat_minor": 0
}